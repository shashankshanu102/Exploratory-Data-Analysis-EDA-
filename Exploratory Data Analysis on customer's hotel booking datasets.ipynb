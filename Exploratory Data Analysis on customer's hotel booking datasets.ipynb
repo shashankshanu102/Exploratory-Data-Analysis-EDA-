{
 "cells": [
  {
   "cell_type": "markdown",
   "metadata": {},
   "source": [
    "# Problem Statement:\n",
    "**Prepare a report exploring the boarding & accommodation trends in the city of San Diego, California, United States with the data provided by identifying the key drivers/metrics.**\n"
   ]
  },
  {
   "cell_type": "markdown",
   "metadata": {},
   "source": [
    "### Importing libraries"
   ]
  },
  {
   "cell_type": "code",
   "execution_count": 1,
   "metadata": {},
   "outputs": [],
   "source": [
    "import pandas as pd\n",
    "import matplotlib.pyplot as plt \n",
    "import numpy as np\n",
    "import seaborn as sns"
   ]
  },
  {
   "cell_type": "markdown",
   "metadata": {},
   "source": [
    "### Dataset Description: \n",
    "- There are **6 datasets** present:\n",
    "\n",
    "    - 1) **calender dataset:** which consists details of the customers booking such as listing_id, date, price, available or not.\n",
    "    - 2) **reviews dataset:** which consists details of the customer reviews\n",
    "    - 3) **reviews_brief dataset:** which consists details of the customer reviews listing_id and date \n",
    "    - 4) **listings dataset:** which consists details of the hotels listing\n",
    "    - 5) **listings_brief dataset:** which consists details of the customer listing\n",
    "    - 6) **neighbourhoods dataset:** which consists details of the nearby hotels"
   ]
  },
  {
   "cell_type": "markdown",
   "metadata": {},
   "source": [
    "### Loading All the related Datasets"
   ]
  },
  {
   "cell_type": "code",
   "execution_count": 2,
   "metadata": {},
   "outputs": [
    {
     "data": {
      "text/html": [
       "<div>\n",
       "<style scoped>\n",
       "    .dataframe tbody tr th:only-of-type {\n",
       "        vertical-align: middle;\n",
       "    }\n",
       "\n",
       "    .dataframe tbody tr th {\n",
       "        vertical-align: top;\n",
       "    }\n",
       "\n",
       "    .dataframe thead th {\n",
       "        text-align: right;\n",
       "    }\n",
       "</style>\n",
       "<table border=\"1\" class=\"dataframe\">\n",
       "  <thead>\n",
       "    <tr style=\"text-align: right;\">\n",
       "      <th></th>\n",
       "      <th>listing_id</th>\n",
       "      <th>date</th>\n",
       "      <th>available</th>\n",
       "      <th>price</th>\n",
       "    </tr>\n",
       "  </thead>\n",
       "  <tbody>\n",
       "    <tr>\n",
       "      <th>0</th>\n",
       "      <td>635756</td>\n",
       "      <td>2019-11-14</td>\n",
       "      <td>t</td>\n",
       "      <td>$67.00</td>\n",
       "    </tr>\n",
       "    <tr>\n",
       "      <th>1</th>\n",
       "      <td>292285</td>\n",
       "      <td>2019-11-14</td>\n",
       "      <td>f</td>\n",
       "      <td>NaN</td>\n",
       "    </tr>\n",
       "  </tbody>\n",
       "</table>\n",
       "</div>"
      ],
      "text/plain": [
       "   listing_id        date available   price\n",
       "0      635756  2019-11-14         t  $67.00\n",
       "1      292285  2019-11-14         f     NaN"
      ]
     },
     "execution_count": 2,
     "metadata": {},
     "output_type": "execute_result"
    }
   ],
   "source": [
    "cal_data = pd.read_csv(\"calendar.csv\")\n",
    "cal_data.head(2)"
   ]
  },
  {
   "cell_type": "code",
   "execution_count": 3,
   "metadata": {},
   "outputs": [
    {
     "data": {
      "text/html": [
       "<div>\n",
       "<style scoped>\n",
       "    .dataframe tbody tr th:only-of-type {\n",
       "        vertical-align: middle;\n",
       "    }\n",
       "\n",
       "    .dataframe tbody tr th {\n",
       "        vertical-align: top;\n",
       "    }\n",
       "\n",
       "    .dataframe thead th {\n",
       "        text-align: right;\n",
       "    }\n",
       "</style>\n",
       "<table border=\"1\" class=\"dataframe\">\n",
       "  <thead>\n",
       "    <tr style=\"text-align: right;\">\n",
       "      <th></th>\n",
       "      <th>listing_id</th>\n",
       "      <th>id</th>\n",
       "      <th>date</th>\n",
       "      <th>reviewer_id</th>\n",
       "      <th>reviewer_name</th>\n",
       "      <th>comments</th>\n",
       "    </tr>\n",
       "  </thead>\n",
       "  <tbody>\n",
       "    <tr>\n",
       "      <th>0</th>\n",
       "      <td>6</td>\n",
       "      <td>8</td>\n",
       "      <td>2008-06-22</td>\n",
       "      <td>415</td>\n",
       "      <td>Terrence</td>\n",
       "      <td>Sara is an awesome hostess.  She was very cons...</td>\n",
       "    </tr>\n",
       "    <tr>\n",
       "      <th>1</th>\n",
       "      <td>6</td>\n",
       "      <td>4383</td>\n",
       "      <td>2009-06-22</td>\n",
       "      <td>3762</td>\n",
       "      <td>Christine</td>\n",
       "      <td>My stay at “Craftsmen” was wonderful!  Sara wa...</td>\n",
       "    </tr>\n",
       "  </tbody>\n",
       "</table>\n",
       "</div>"
      ],
      "text/plain": [
       "   listing_id    id        date  reviewer_id reviewer_name  \\\n",
       "0           6     8  2008-06-22          415      Terrence   \n",
       "1           6  4383  2009-06-22         3762     Christine   \n",
       "\n",
       "                                            comments  \n",
       "0  Sara is an awesome hostess.  She was very cons...  \n",
       "1  My stay at “Craftsmen” was wonderful!  Sara wa...  "
      ]
     },
     "execution_count": 3,
     "metadata": {},
     "output_type": "execute_result"
    }
   ],
   "source": [
    "review_data = pd.read_csv(\"reviews.csv\")\n",
    "review_data.head(2)"
   ]
  },
  {
   "cell_type": "code",
   "execution_count": 4,
   "metadata": {},
   "outputs": [
    {
     "data": {
      "text/html": [
       "<div>\n",
       "<style scoped>\n",
       "    .dataframe tbody tr th:only-of-type {\n",
       "        vertical-align: middle;\n",
       "    }\n",
       "\n",
       "    .dataframe tbody tr th {\n",
       "        vertical-align: top;\n",
       "    }\n",
       "\n",
       "    .dataframe thead th {\n",
       "        text-align: right;\n",
       "    }\n",
       "</style>\n",
       "<table border=\"1\" class=\"dataframe\">\n",
       "  <thead>\n",
       "    <tr style=\"text-align: right;\">\n",
       "      <th></th>\n",
       "      <th>listing_id</th>\n",
       "      <th>date</th>\n",
       "    </tr>\n",
       "  </thead>\n",
       "  <tbody>\n",
       "    <tr>\n",
       "      <th>0</th>\n",
       "      <td>6</td>\n",
       "      <td>2008-06-22</td>\n",
       "    </tr>\n",
       "    <tr>\n",
       "      <th>1</th>\n",
       "      <td>6</td>\n",
       "      <td>2009-06-22</td>\n",
       "    </tr>\n",
       "  </tbody>\n",
       "</table>\n",
       "</div>"
      ],
      "text/plain": [
       "   listing_id        date\n",
       "0           6  2008-06-22\n",
       "1           6  2009-06-22"
      ]
     },
     "execution_count": 4,
     "metadata": {},
     "output_type": "execute_result"
    }
   ],
   "source": [
    "review_brief_data = pd.read_csv(\"reviews_brief.csv\")\n",
    "review_brief_data.head(2)"
   ]
  },
  {
   "cell_type": "code",
   "execution_count": 5,
   "metadata": {},
   "outputs": [
    {
     "data": {
      "text/html": [
       "<div>\n",
       "<style scoped>\n",
       "    .dataframe tbody tr th:only-of-type {\n",
       "        vertical-align: middle;\n",
       "    }\n",
       "\n",
       "    .dataframe tbody tr th {\n",
       "        vertical-align: top;\n",
       "    }\n",
       "\n",
       "    .dataframe thead th {\n",
       "        text-align: right;\n",
       "    }\n",
       "</style>\n",
       "<table border=\"1\" class=\"dataframe\">\n",
       "  <thead>\n",
       "    <tr style=\"text-align: right;\">\n",
       "      <th></th>\n",
       "      <th>id</th>\n",
       "      <th>listing_url</th>\n",
       "      <th>scrape_id</th>\n",
       "      <th>last_scraped</th>\n",
       "      <th>name</th>\n",
       "      <th>summary</th>\n",
       "      <th>space</th>\n",
       "      <th>description</th>\n",
       "      <th>experiences_offered</th>\n",
       "      <th>neighborhood_overview</th>\n",
       "      <th>...</th>\n",
       "      <th>requires_license</th>\n",
       "      <th>license</th>\n",
       "      <th>jurisdiction_names</th>\n",
       "      <th>instant_bookable</th>\n",
       "      <th>is_business_travel_ready</th>\n",
       "      <th>cancellation_policy</th>\n",
       "      <th>require_guest_profile_picture</th>\n",
       "      <th>require_guest_phone_verification</th>\n",
       "      <th>calculated_host_listings_count</th>\n",
       "      <th>reviews_per_month</th>\n",
       "    </tr>\n",
       "  </thead>\n",
       "  <tbody>\n",
       "    <tr>\n",
       "      <th>0</th>\n",
       "      <td>6</td>\n",
       "      <td>https://www.airbnb.com/rooms/6</td>\n",
       "      <td>20181115100559</td>\n",
       "      <td>2018-11-15</td>\n",
       "      <td>Large Craftsmen w/ yard ~ Perfect for families</td>\n",
       "      <td>Our Beautiful Craftsmen house has all the mode...</td>\n",
       "      <td>We are located in the heart of North Park, the...</td>\n",
       "      <td>Our Beautiful Craftsmen house has all the mode...</td>\n",
       "      <td>none</td>\n",
       "      <td>We have the best Neighborhood in San Diego, in...</td>\n",
       "      <td>...</td>\n",
       "      <td>f</td>\n",
       "      <td>NaN</td>\n",
       "      <td>{\"SAN DIEGO\",\" SAN DIEGO TOURISM MARKETING DIS...</td>\n",
       "      <td>t</td>\n",
       "      <td>f</td>\n",
       "      <td>strict_14_with_grace_period</td>\n",
       "      <td>f</td>\n",
       "      <td>f</td>\n",
       "      <td>1</td>\n",
       "      <td>1.18</td>\n",
       "    </tr>\n",
       "    <tr>\n",
       "      <th>1</th>\n",
       "      <td>5570</td>\n",
       "      <td>https://www.airbnb.com/rooms/5570</td>\n",
       "      <td>20181115100559</td>\n",
       "      <td>2018-11-15</td>\n",
       "      <td>Ocean front condo on the sand</td>\n",
       "      <td>Missionbeachretreat.   Great Ocean Front Condo...</td>\n",
       "      <td>This charming two bedroom beachfront condomini...</td>\n",
       "      <td>Missionbeachretreat.   Great Ocean Front Condo...</td>\n",
       "      <td>none</td>\n",
       "      <td>While some may compare San Diego’s Mission Bea...</td>\n",
       "      <td>...</td>\n",
       "      <td>f</td>\n",
       "      <td>NaN</td>\n",
       "      <td>{\"SAN DIEGO\",\" SAN DIEGO TOURISM MARKETING DIS...</td>\n",
       "      <td>f</td>\n",
       "      <td>f</td>\n",
       "      <td>strict_14_with_grace_period</td>\n",
       "      <td>f</td>\n",
       "      <td>f</td>\n",
       "      <td>2</td>\n",
       "      <td>NaN</td>\n",
       "    </tr>\n",
       "  </tbody>\n",
       "</table>\n",
       "<p>2 rows × 96 columns</p>\n",
       "</div>"
      ],
      "text/plain": [
       "     id                        listing_url       scrape_id last_scraped  \\\n",
       "0     6     https://www.airbnb.com/rooms/6  20181115100559   2018-11-15   \n",
       "1  5570  https://www.airbnb.com/rooms/5570  20181115100559   2018-11-15   \n",
       "\n",
       "                                             name  \\\n",
       "0  Large Craftsmen w/ yard ~ Perfect for families   \n",
       "1                   Ocean front condo on the sand   \n",
       "\n",
       "                                             summary  \\\n",
       "0  Our Beautiful Craftsmen house has all the mode...   \n",
       "1  Missionbeachretreat.   Great Ocean Front Condo...   \n",
       "\n",
       "                                               space  \\\n",
       "0  We are located in the heart of North Park, the...   \n",
       "1  This charming two bedroom beachfront condomini...   \n",
       "\n",
       "                                         description experiences_offered  \\\n",
       "0  Our Beautiful Craftsmen house has all the mode...                none   \n",
       "1  Missionbeachretreat.   Great Ocean Front Condo...                none   \n",
       "\n",
       "                               neighborhood_overview  ... requires_license  \\\n",
       "0  We have the best Neighborhood in San Diego, in...  ...                f   \n",
       "1  While some may compare San Diego’s Mission Bea...  ...                f   \n",
       "\n",
       "  license                                 jurisdiction_names instant_bookable  \\\n",
       "0     NaN  {\"SAN DIEGO\",\" SAN DIEGO TOURISM MARKETING DIS...                t   \n",
       "1     NaN  {\"SAN DIEGO\",\" SAN DIEGO TOURISM MARKETING DIS...                f   \n",
       "\n",
       "  is_business_travel_ready          cancellation_policy  \\\n",
       "0                        f  strict_14_with_grace_period   \n",
       "1                        f  strict_14_with_grace_period   \n",
       "\n",
       "   require_guest_profile_picture require_guest_phone_verification  \\\n",
       "0                              f                                f   \n",
       "1                              f                                f   \n",
       "\n",
       "   calculated_host_listings_count  reviews_per_month  \n",
       "0                               1               1.18  \n",
       "1                               2                NaN  \n",
       "\n",
       "[2 rows x 96 columns]"
      ]
     },
     "execution_count": 5,
     "metadata": {},
     "output_type": "execute_result"
    }
   ],
   "source": [
    "listing_data = pd.read_csv(\"listings.csv\")\n",
    "listing_data.head(2)"
   ]
  },
  {
   "cell_type": "code",
   "execution_count": 6,
   "metadata": {},
   "outputs": [
    {
     "data": {
      "text/html": [
       "<div>\n",
       "<style scoped>\n",
       "    .dataframe tbody tr th:only-of-type {\n",
       "        vertical-align: middle;\n",
       "    }\n",
       "\n",
       "    .dataframe tbody tr th {\n",
       "        vertical-align: top;\n",
       "    }\n",
       "\n",
       "    .dataframe thead th {\n",
       "        text-align: right;\n",
       "    }\n",
       "</style>\n",
       "<table border=\"1\" class=\"dataframe\">\n",
       "  <thead>\n",
       "    <tr style=\"text-align: right;\">\n",
       "      <th></th>\n",
       "      <th>id</th>\n",
       "      <th>name</th>\n",
       "      <th>host_id</th>\n",
       "      <th>host_name</th>\n",
       "      <th>neighbourhood_group</th>\n",
       "      <th>neighbourhood</th>\n",
       "      <th>latitude</th>\n",
       "      <th>longitude</th>\n",
       "      <th>room_type</th>\n",
       "      <th>price</th>\n",
       "      <th>minimum_nights</th>\n",
       "      <th>number_of_reviews</th>\n",
       "      <th>last_review</th>\n",
       "      <th>reviews_per_month</th>\n",
       "      <th>calculated_host_listings_count</th>\n",
       "      <th>availability_365</th>\n",
       "    </tr>\n",
       "  </thead>\n",
       "  <tbody>\n",
       "    <tr>\n",
       "      <th>0</th>\n",
       "      <td>6</td>\n",
       "      <td>Large Craftsmen w/ yard ~ Perfect for families</td>\n",
       "      <td>29</td>\n",
       "      <td>Sara</td>\n",
       "      <td>NaN</td>\n",
       "      <td>North Hills</td>\n",
       "      <td>32.753993</td>\n",
       "      <td>-117.129705</td>\n",
       "      <td>Entire home/apt</td>\n",
       "      <td>295</td>\n",
       "      <td>2</td>\n",
       "      <td>149</td>\n",
       "      <td>2018-10-07</td>\n",
       "      <td>1.18</td>\n",
       "      <td>1</td>\n",
       "      <td>20</td>\n",
       "    </tr>\n",
       "    <tr>\n",
       "      <th>1</th>\n",
       "      <td>5570</td>\n",
       "      <td>Ocean front condo on the sand</td>\n",
       "      <td>8435</td>\n",
       "      <td>Jef Karchin'S MISSIONBEACHRETREAT</td>\n",
       "      <td>NaN</td>\n",
       "      <td>Mission Bay</td>\n",
       "      <td>32.784304</td>\n",
       "      <td>-117.252578</td>\n",
       "      <td>Entire home/apt</td>\n",
       "      <td>2050</td>\n",
       "      <td>3</td>\n",
       "      <td>0</td>\n",
       "      <td>NaN</td>\n",
       "      <td>NaN</td>\n",
       "      <td>2</td>\n",
       "      <td>328</td>\n",
       "    </tr>\n",
       "  </tbody>\n",
       "</table>\n",
       "</div>"
      ],
      "text/plain": [
       "     id                                            name  host_id  \\\n",
       "0     6  Large Craftsmen w/ yard ~ Perfect for families       29   \n",
       "1  5570                   Ocean front condo on the sand     8435   \n",
       "\n",
       "                           host_name  neighbourhood_group neighbourhood  \\\n",
       "0                               Sara                  NaN   North Hills   \n",
       "1  Jef Karchin'S MISSIONBEACHRETREAT                  NaN   Mission Bay   \n",
       "\n",
       "    latitude   longitude        room_type  price  minimum_nights  \\\n",
       "0  32.753993 -117.129705  Entire home/apt    295               2   \n",
       "1  32.784304 -117.252578  Entire home/apt   2050               3   \n",
       "\n",
       "   number_of_reviews last_review  reviews_per_month  \\\n",
       "0                149  2018-10-07               1.18   \n",
       "1                  0         NaN                NaN   \n",
       "\n",
       "   calculated_host_listings_count  availability_365  \n",
       "0                               1                20  \n",
       "1                               2               328  "
      ]
     },
     "execution_count": 6,
     "metadata": {},
     "output_type": "execute_result"
    }
   ],
   "source": [
    "listing_brief_data = pd.read_csv(\"listings_brief.csv\")\n",
    "listing_brief_data.head(2)"
   ]
  },
  {
   "cell_type": "code",
   "execution_count": 7,
   "metadata": {},
   "outputs": [
    {
     "data": {
      "text/html": [
       "<div>\n",
       "<style scoped>\n",
       "    .dataframe tbody tr th:only-of-type {\n",
       "        vertical-align: middle;\n",
       "    }\n",
       "\n",
       "    .dataframe tbody tr th {\n",
       "        vertical-align: top;\n",
       "    }\n",
       "\n",
       "    .dataframe thead th {\n",
       "        text-align: right;\n",
       "    }\n",
       "</style>\n",
       "<table border=\"1\" class=\"dataframe\">\n",
       "  <thead>\n",
       "    <tr style=\"text-align: right;\">\n",
       "      <th></th>\n",
       "      <th>neighbourhood_group</th>\n",
       "      <th>neighbourhood</th>\n",
       "    </tr>\n",
       "  </thead>\n",
       "  <tbody>\n",
       "    <tr>\n",
       "      <th>0</th>\n",
       "      <td>NaN</td>\n",
       "      <td>Allied Gardens</td>\n",
       "    </tr>\n",
       "    <tr>\n",
       "      <th>1</th>\n",
       "      <td>NaN</td>\n",
       "      <td>Alta Vista</td>\n",
       "    </tr>\n",
       "  </tbody>\n",
       "</table>\n",
       "</div>"
      ],
      "text/plain": [
       "   neighbourhood_group   neighbourhood\n",
       "0                  NaN  Allied Gardens\n",
       "1                  NaN      Alta Vista"
      ]
     },
     "execution_count": 7,
     "metadata": {},
     "output_type": "execute_result"
    }
   ],
   "source": [
    "neighbour_data = pd.read_csv(\"neighbourhoods.csv\")\n",
    "neighbour_data.head(2)"
   ]
  },
  {
   "cell_type": "code",
   "execution_count": 3,
   "metadata": {},
   "outputs": [],
   "source": [
    "### Lets print out shape of the dataset"
   ]
  },
  {
   "cell_type": "code",
   "execution_count": 8,
   "metadata": {},
   "outputs": [
    {
     "name": "stdout",
     "output_type": "stream",
     "text": [
      "listings  (11922, 96)\n",
      "listings_brief  (11922, 16)\n",
      "reviews  (344404, 6)\n",
      "reviews_brief  (344404, 2)\n",
      "neighbourhoods  (108, 2)\n",
      "calendar  (4351530, 4)\n"
     ]
    }
   ],
   "source": [
    "print(\"listings \",listing_data.shape)\n",
    "print(\"listings_brief \",listing_brief_data.shape)\n",
    "print(\"reviews \",review_data.shape)\n",
    "print(\"reviews_brief \",review_brief_data.shape)\n",
    "print(\"neighbourhoods \",neighbour_data.shape)\n",
    "print(\"calendar \",cal_data.shape)"
   ]
  },
  {
   "cell_type": "markdown",
   "metadata": {},
   "source": [
    "## As we can see above the dataset are quite large so we will take one dataset at a time and explore it and try to get some insights from it."
   ]
  },
  {
   "cell_type": "markdown",
   "metadata": {},
   "source": [
    "### Taking Listings Dataset"
   ]
  },
  {
   "cell_type": "code",
   "execution_count": 9,
   "metadata": {},
   "outputs": [
    {
     "data": {
      "text/html": [
       "<div>\n",
       "<style scoped>\n",
       "    .dataframe tbody tr th:only-of-type {\n",
       "        vertical-align: middle;\n",
       "    }\n",
       "\n",
       "    .dataframe tbody tr th {\n",
       "        vertical-align: top;\n",
       "    }\n",
       "\n",
       "    .dataframe thead th {\n",
       "        text-align: right;\n",
       "    }\n",
       "</style>\n",
       "<table border=\"1\" class=\"dataframe\">\n",
       "  <thead>\n",
       "    <tr style=\"text-align: right;\">\n",
       "      <th></th>\n",
       "      <th>id</th>\n",
       "      <th>listing_url</th>\n",
       "      <th>scrape_id</th>\n",
       "      <th>last_scraped</th>\n",
       "      <th>name</th>\n",
       "      <th>summary</th>\n",
       "      <th>space</th>\n",
       "      <th>description</th>\n",
       "      <th>experiences_offered</th>\n",
       "      <th>neighborhood_overview</th>\n",
       "      <th>...</th>\n",
       "      <th>requires_license</th>\n",
       "      <th>license</th>\n",
       "      <th>jurisdiction_names</th>\n",
       "      <th>instant_bookable</th>\n",
       "      <th>is_business_travel_ready</th>\n",
       "      <th>cancellation_policy</th>\n",
       "      <th>require_guest_profile_picture</th>\n",
       "      <th>require_guest_phone_verification</th>\n",
       "      <th>calculated_host_listings_count</th>\n",
       "      <th>reviews_per_month</th>\n",
       "    </tr>\n",
       "  </thead>\n",
       "  <tbody>\n",
       "    <tr>\n",
       "      <th>0</th>\n",
       "      <td>6</td>\n",
       "      <td>https://www.airbnb.com/rooms/6</td>\n",
       "      <td>20181115100559</td>\n",
       "      <td>2018-11-15</td>\n",
       "      <td>Large Craftsmen w/ yard ~ Perfect for families</td>\n",
       "      <td>Our Beautiful Craftsmen house has all the mode...</td>\n",
       "      <td>We are located in the heart of North Park, the...</td>\n",
       "      <td>Our Beautiful Craftsmen house has all the mode...</td>\n",
       "      <td>none</td>\n",
       "      <td>We have the best Neighborhood in San Diego, in...</td>\n",
       "      <td>...</td>\n",
       "      <td>f</td>\n",
       "      <td>NaN</td>\n",
       "      <td>{\"SAN DIEGO\",\" SAN DIEGO TOURISM MARKETING DIS...</td>\n",
       "      <td>t</td>\n",
       "      <td>f</td>\n",
       "      <td>strict_14_with_grace_period</td>\n",
       "      <td>f</td>\n",
       "      <td>f</td>\n",
       "      <td>1</td>\n",
       "      <td>1.18</td>\n",
       "    </tr>\n",
       "    <tr>\n",
       "      <th>1</th>\n",
       "      <td>5570</td>\n",
       "      <td>https://www.airbnb.com/rooms/5570</td>\n",
       "      <td>20181115100559</td>\n",
       "      <td>2018-11-15</td>\n",
       "      <td>Ocean front condo on the sand</td>\n",
       "      <td>Missionbeachretreat.   Great Ocean Front Condo...</td>\n",
       "      <td>This charming two bedroom beachfront condomini...</td>\n",
       "      <td>Missionbeachretreat.   Great Ocean Front Condo...</td>\n",
       "      <td>none</td>\n",
       "      <td>While some may compare San Diego’s Mission Bea...</td>\n",
       "      <td>...</td>\n",
       "      <td>f</td>\n",
       "      <td>NaN</td>\n",
       "      <td>{\"SAN DIEGO\",\" SAN DIEGO TOURISM MARKETING DIS...</td>\n",
       "      <td>f</td>\n",
       "      <td>f</td>\n",
       "      <td>strict_14_with_grace_period</td>\n",
       "      <td>f</td>\n",
       "      <td>f</td>\n",
       "      <td>2</td>\n",
       "      <td>NaN</td>\n",
       "    </tr>\n",
       "  </tbody>\n",
       "</table>\n",
       "<p>2 rows × 96 columns</p>\n",
       "</div>"
      ],
      "text/plain": [
       "     id                        listing_url       scrape_id last_scraped  \\\n",
       "0     6     https://www.airbnb.com/rooms/6  20181115100559   2018-11-15   \n",
       "1  5570  https://www.airbnb.com/rooms/5570  20181115100559   2018-11-15   \n",
       "\n",
       "                                             name  \\\n",
       "0  Large Craftsmen w/ yard ~ Perfect for families   \n",
       "1                   Ocean front condo on the sand   \n",
       "\n",
       "                                             summary  \\\n",
       "0  Our Beautiful Craftsmen house has all the mode...   \n",
       "1  Missionbeachretreat.   Great Ocean Front Condo...   \n",
       "\n",
       "                                               space  \\\n",
       "0  We are located in the heart of North Park, the...   \n",
       "1  This charming two bedroom beachfront condomini...   \n",
       "\n",
       "                                         description experiences_offered  \\\n",
       "0  Our Beautiful Craftsmen house has all the mode...                none   \n",
       "1  Missionbeachretreat.   Great Ocean Front Condo...                none   \n",
       "\n",
       "                               neighborhood_overview  ... requires_license  \\\n",
       "0  We have the best Neighborhood in San Diego, in...  ...                f   \n",
       "1  While some may compare San Diego’s Mission Bea...  ...                f   \n",
       "\n",
       "  license                                 jurisdiction_names instant_bookable  \\\n",
       "0     NaN  {\"SAN DIEGO\",\" SAN DIEGO TOURISM MARKETING DIS...                t   \n",
       "1     NaN  {\"SAN DIEGO\",\" SAN DIEGO TOURISM MARKETING DIS...                f   \n",
       "\n",
       "  is_business_travel_ready          cancellation_policy  \\\n",
       "0                        f  strict_14_with_grace_period   \n",
       "1                        f  strict_14_with_grace_period   \n",
       "\n",
       "   require_guest_profile_picture require_guest_phone_verification  \\\n",
       "0                              f                                f   \n",
       "1                              f                                f   \n",
       "\n",
       "   calculated_host_listings_count  reviews_per_month  \n",
       "0                               1               1.18  \n",
       "1                               2                NaN  \n",
       "\n",
       "[2 rows x 96 columns]"
      ]
     },
     "execution_count": 9,
     "metadata": {},
     "output_type": "execute_result"
    }
   ],
   "source": [
    "listing_data.head(2)"
   ]
  },
  {
   "cell_type": "code",
   "execution_count": 10,
   "metadata": {},
   "outputs": [
    {
     "data": {
      "text/plain": [
       "(11922, 96)"
      ]
     },
     "execution_count": 10,
     "metadata": {},
     "output_type": "execute_result"
    }
   ],
   "source": [
    "listing_data.shape"
   ]
  },
  {
   "cell_type": "markdown",
   "metadata": {},
   "source": [
    "**- In listing dataset there are 11922 observations and 96 features are present**"
   ]
  },
  {
   "cell_type": "code",
   "execution_count": 11,
   "metadata": {},
   "outputs": [],
   "source": [
    "## Lets check null or missing values in the dataset"
   ]
  },
  {
   "cell_type": "code",
   "execution_count": 12,
   "metadata": {
    "scrolled": false
   },
   "outputs": [
    {
     "name": "stdout",
     "output_type": "stream",
     "text": [
      "id                                     0\n",
      "listing_url                            0\n",
      "scrape_id                              0\n",
      "last_scraped                           0\n",
      "name                                   2\n",
      "                                    ... \n",
      "cancellation_policy                    0\n",
      "require_guest_profile_picture          0\n",
      "require_guest_phone_verification       0\n",
      "calculated_host_listings_count         0\n",
      "reviews_per_month                   2163\n",
      "Length: 96, dtype: int64\n"
     ]
    }
   ],
   "source": [
    "print(listing_data.isnull().sum())"
   ]
  },
  {
   "cell_type": "markdown",
   "metadata": {},
   "source": [
    "**- From this we are not able to see the full details. So lets try to visualize it**"
   ]
  },
  {
   "cell_type": "code",
   "execution_count": 13,
   "metadata": {},
   "outputs": [
    {
     "data": {
      "text/plain": [
       "<matplotlib.axes._subplots.AxesSubplot at 0x1d3408888d0>"
      ]
     },
     "execution_count": 13,
     "metadata": {},
     "output_type": "execute_result"
    },
    {
     "data": {
      "image/png": "[encoded data removed]",
      "text/plain": [
       "<Figure size 720x576 with 2 Axes>"
      ]
     },
     "metadata": {
      "needs_background": "light"
     },
     "output_type": "display_data"
    }
   ],
   "source": [
    "plt.figure(figsize=(10,8))\n",
    "sns.heatmap(listing_data.isnull())"
   ]
  },
  {
   "cell_type": "markdown",
   "metadata": {},
   "source": [
    "**- From above plot we can say that the dataset consists of many null values in it.**\n",
    "    **- so let's apply the loop on it get the actual counts in each columns**"
   ]
  },
  {
   "cell_type": "code",
   "execution_count": 14,
   "metadata": {},
   "outputs": [
    {
     "name": "stdout",
     "output_type": "stream",
     "text": [
      "0\n",
      "0\n",
      "0\n",
      "0\n",
      "2\n",
      "413\n",
      "3160\n",
      "153\n",
      "0\n",
      "4329\n",
      "5652\n",
      "4842\n",
      "4366\n",
      "4601\n",
      "3462\n",
      "11922\n",
      "11922\n",
      "0\n",
      "11922\n",
      "0\n",
      "0\n",
      "6\n",
      "6\n",
      "56\n",
      "3976\n",
      "4013\n",
      "4013\n",
      "11922\n",
      "6\n",
      "6\n",
      "6\n",
      "2204\n",
      "6\n",
      "6\n",
      "0\n",
      "6\n",
      "6\n",
      "0\n",
      "846\n",
      "0\n",
      "11922\n",
      "0\n",
      "4\n",
      "167\n",
      "22\n",
      "0\n",
      "0\n",
      "0\n",
      "0\n",
      "0\n",
      "0\n",
      "0\n",
      "0\n",
      "0\n",
      "4\n",
      "5\n",
      "8\n",
      "0\n",
      "0\n",
      "11751\n",
      "0\n",
      "10675\n",
      "10879\n",
      "2935\n",
      "1691\n",
      "0\n",
      "0\n",
      "0\n",
      "0\n",
      "0\n",
      "0\n",
      "0\n",
      "0\n",
      "0\n",
      "0\n",
      "0\n",
      "0\n",
      "2163\n",
      "2160\n",
      "2293\n",
      "2299\n",
      "2295\n",
      "2310\n",
      "2301\n",
      "2313\n",
      "2315\n",
      "0\n",
      "11874\n",
      "507\n",
      "0\n",
      "0\n",
      "0\n",
      "0\n",
      "0\n",
      "0\n",
      "2163\n"
     ]
    }
   ],
   "source": [
    "for i in listing_data.isnull().sum():\n",
    "    print(i)"
   ]
  },
  {
   "cell_type": "markdown",
   "metadata": {},
   "source": [
    "**- Lets get More Detailed analysis on the dataset by using pandas profiling**"
   ]
  },
  {
   "cell_type": "code",
   "execution_count": 15,
   "metadata": {},
   "outputs": [],
   "source": [
    "import pandas_profiling"
   ]
  },
  {
   "cell_type": "code",
   "execution_count": 16,
   "metadata": {},
   "outputs": [],
   "source": [
    "#profile = pandas_profiling.ProfileReport(listing_data)\n",
    "#profile"
   ]
  },
  {
   "cell_type": "code",
   "execution_count": 4,
   "metadata": {},
   "outputs": [],
   "source": [
    "## As its time to run so I commented it. And below mentioned are the report "
   ]
  },
  {
   "cell_type": "markdown",
   "metadata": {},
   "source": [
    "#### From this report we got a detailed report of the dataset\n"
   ]
  },
  {
   "cell_type": "markdown",
   "metadata": {},
   "source": [
    "\n",
    "    - Number of variables = 96\n",
    "    - Number of observations = 11922\n",
    "    - Numeric = 27\n",
    "    - Categorical = 55\n",
    "    - Total Missing (%)= 15.6%\n",
    "\n",
    "- experiences_offered has constant value none, can be ignored\n",
    "- has_availability has constant value t, can be ignored\n",
    "- host_acceptance_rate has constant value, can be ignored\n",
    "- host_total_listings_count is highly correlated with host_listings_count\n",
    "- is_business_travel_ready has constant value f,can be ignored\n",
    "- medium_url has constant value, can be ignored\n",
    "- neighbourhood_group_cleansed has 100.0% missing values\n",
    "- requires_license has constant value f, can be ignored\n",
    "- scrape_id has constant value, can be ignored\n",
    "- thumbnail_url has constant value, can be ignored\n",
    "- xl_picture_url has constant value, can be ignored"
   ]
  },
  {
   "cell_type": "code",
   "execution_count": 17,
   "metadata": {},
   "outputs": [],
   "source": [
    "## Now lets drop some columns which are not so usefull"
   ]
  },
  {
   "cell_type": "code",
   "execution_count": 18,
   "metadata": {},
   "outputs": [
    {
     "data": {
      "text/plain": [
       "Index(['id', 'listing_url', 'scrape_id', 'last_scraped', 'name', 'summary',\n",
       "       'space', 'description', 'experiences_offered', 'neighborhood_overview',\n",
       "       'notes', 'transit', 'access', 'interaction', 'house_rules',\n",
       "       'thumbnail_url', 'medium_url', 'picture_url', 'xl_picture_url',\n",
       "       'host_id', 'host_url', 'host_name', 'host_since', 'host_location',\n",
       "       'host_about', 'host_response_time', 'host_response_rate',\n",
       "       'host_acceptance_rate', 'host_is_superhost', 'host_thumbnail_url',\n",
       "       'host_picture_url', 'host_neighbourhood', 'host_listings_count',\n",
       "       'host_total_listings_count', 'host_verifications',\n",
       "       'host_has_profile_pic', 'host_identity_verified', 'street',\n",
       "       'neighbourhood', 'neighbourhood_cleansed',\n",
       "       'neighbourhood_group_cleansed', 'city', 'state', 'zipcode', 'market',\n",
       "       'smart_location', 'country_code', 'country', 'latitude', 'longitude',\n",
       "       'is_location_exact', 'property_type', 'room_type', 'accommodates',\n",
       "       'bathrooms', 'bedrooms', 'beds', 'bed_type', 'amenities', 'square_feet',\n",
       "       'price', 'weekly_price', 'monthly_price', 'security_deposit',\n",
       "       'cleaning_fee', 'guests_included', 'extra_people', 'minimum_nights',\n",
       "       'maximum_nights', 'calendar_updated', 'has_availability',\n",
       "       'availability_30', 'availability_60', 'availability_90',\n",
       "       'availability_365', 'calendar_last_scraped', 'number_of_reviews',\n",
       "       'first_review', 'last_review', 'review_scores_rating',\n",
       "       'review_scores_accuracy', 'review_scores_cleanliness',\n",
       "       'review_scores_checkin', 'review_scores_communication',\n",
       "       'review_scores_location', 'review_scores_value', 'requires_license',\n",
       "       'license', 'jurisdiction_names', 'instant_bookable',\n",
       "       'is_business_travel_ready', 'cancellation_policy',\n",
       "       'require_guest_profile_picture', 'require_guest_phone_verification',\n",
       "       'calculated_host_listings_count', 'reviews_per_month'],\n",
       "      dtype='object')"
      ]
     },
     "execution_count": 18,
     "metadata": {},
     "output_type": "execute_result"
    }
   ],
   "source": [
    "listing_data.columns"
   ]
  },
  {
   "cell_type": "code",
   "execution_count": 19,
   "metadata": {},
   "outputs": [],
   "source": [
    "listing_data.drop(columns=['experiences_offered','has_availability','host_acceptance_rate','host_total_listings_count',\n",
    "                       'is_business_travel_ready','medium_url',\"neighbourhood_group_cleansed\",\"requires_license\",\"scrape_id\",\n",
    "                       \"thumbnail_url\",\"xl_picture_url\"],inplace= True)"
   ]
  },
  {
   "cell_type": "code",
   "execution_count": 20,
   "metadata": {},
   "outputs": [
    {
     "data": {
      "text/plain": [
       "(11922, 85)"
      ]
     },
     "execution_count": 20,
     "metadata": {},
     "output_type": "execute_result"
    }
   ],
   "source": [
    "listing_data.shape"
   ]
  },
  {
   "cell_type": "markdown",
   "metadata": {},
   "source": [
    "**- As above we see that many columns has null or missing values so let's set a threshold and drop that columns which has null values more than threshold.**"
   ]
  },
  {
   "cell_type": "code",
   "execution_count": 21,
   "metadata": {},
   "outputs": [
    {
     "data": {
      "text/plain": [
       "id                                     0\n",
       "listing_url                            0\n",
       "last_scraped                           0\n",
       "name                                   2\n",
       "summary                              413\n",
       "                                    ... \n",
       "cancellation_policy                    0\n",
       "require_guest_profile_picture          0\n",
       "require_guest_phone_verification       0\n",
       "calculated_host_listings_count         0\n",
       "reviews_per_month                   2163\n",
       "Length: 85, dtype: int64"
      ]
     },
     "execution_count": 21,
     "metadata": {},
     "output_type": "execute_result"
    }
   ],
   "source": [
    "listing_data.isnull().sum()"
   ]
  },
  {
   "cell_type": "markdown",
   "metadata": {},
   "source": [
    "### Lets set our threshold value as 90% and then drop the columns"
   ]
  },
  {
   "cell_type": "code",
   "execution_count": 22,
   "metadata": {},
   "outputs": [
    {
     "name": "stdout",
     "output_type": "stream",
     "text": [
      "Number of  columns to be dropped:  4\n",
      "['square_feet', 'weekly_price', 'monthly_price', 'license']\n"
     ]
    }
   ],
   "source": [
    "drop_cols=[]\n",
    "for cols in listing_data.columns:\n",
    "    if listing_data[cols].isnull().sum() >10000:\n",
    "        drop_cols.append(cols)\n",
    "print(\"Number of  columns to be dropped: \", len(drop_cols))\n",
    "print(drop_cols)\n",
    "listing_data.drop(drop_cols,axis=1, inplace = True)"
   ]
  },
  {
   "cell_type": "code",
   "execution_count": 23,
   "metadata": {},
   "outputs": [],
   "source": [
    "listing_data.drop(columns=['last_scraped'],inplace= True)"
   ]
  },
  {
   "cell_type": "code",
   "execution_count": 24,
   "metadata": {},
   "outputs": [
    {
     "data": {
      "text/plain": [
       "(11922, 80)"
      ]
     },
     "execution_count": 24,
     "metadata": {},
     "output_type": "execute_result"
    }
   ],
   "source": [
    "listing_data.shape"
   ]
  },
  {
   "cell_type": "markdown",
   "metadata": {},
   "source": [
    "**- Here totally we drop 5 columns which have null values more than the threshold**"
   ]
  },
  {
   "cell_type": "code",
   "execution_count": 25,
   "metadata": {},
   "outputs": [
    {
     "data": {
      "text/html": [
       "<div>\n",
       "<style scoped>\n",
       "    .dataframe tbody tr th:only-of-type {\n",
       "        vertical-align: middle;\n",
       "    }\n",
       "\n",
       "    .dataframe tbody tr th {\n",
       "        vertical-align: top;\n",
       "    }\n",
       "\n",
       "    .dataframe thead th {\n",
       "        text-align: right;\n",
       "    }\n",
       "</style>\n",
       "<table border=\"1\" class=\"dataframe\">\n",
       "  <thead>\n",
       "    <tr style=\"text-align: right;\">\n",
       "      <th></th>\n",
       "      <th>id</th>\n",
       "      <th>listing_url</th>\n",
       "      <th>name</th>\n",
       "      <th>summary</th>\n",
       "      <th>space</th>\n",
       "      <th>description</th>\n",
       "      <th>neighborhood_overview</th>\n",
       "      <th>notes</th>\n",
       "      <th>transit</th>\n",
       "      <th>access</th>\n",
       "      <th>...</th>\n",
       "      <th>review_scores_communication</th>\n",
       "      <th>review_scores_location</th>\n",
       "      <th>review_scores_value</th>\n",
       "      <th>jurisdiction_names</th>\n",
       "      <th>instant_bookable</th>\n",
       "      <th>cancellation_policy</th>\n",
       "      <th>require_guest_profile_picture</th>\n",
       "      <th>require_guest_phone_verification</th>\n",
       "      <th>calculated_host_listings_count</th>\n",
       "      <th>reviews_per_month</th>\n",
       "    </tr>\n",
       "  </thead>\n",
       "  <tbody>\n",
       "    <tr>\n",
       "      <th>0</th>\n",
       "      <td>6</td>\n",
       "      <td>https://www.airbnb.com/rooms/6</td>\n",
       "      <td>Large Craftsmen w/ yard ~ Perfect for families</td>\n",
       "      <td>Our Beautiful Craftsmen house has all the mode...</td>\n",
       "      <td>We are located in the heart of North Park, the...</td>\n",
       "      <td>Our Beautiful Craftsmen house has all the mode...</td>\n",
       "      <td>We have the best Neighborhood in San Diego, in...</td>\n",
       "      <td>The driveway has room for two cars to park tan...</td>\n",
       "      <td>We are right around the corner from a bus stop...</td>\n",
       "      <td>Guests will have access to everything in the h...</td>\n",
       "      <td>...</td>\n",
       "      <td>10.0</td>\n",
       "      <td>10.0</td>\n",
       "      <td>10.0</td>\n",
       "      <td>{\"SAN DIEGO\",\" SAN DIEGO TOURISM MARKETING DIS...</td>\n",
       "      <td>t</td>\n",
       "      <td>strict_14_with_grace_period</td>\n",
       "      <td>f</td>\n",
       "      <td>f</td>\n",
       "      <td>1</td>\n",
       "      <td>1.18</td>\n",
       "    </tr>\n",
       "    <tr>\n",
       "      <th>1</th>\n",
       "      <td>5570</td>\n",
       "      <td>https://www.airbnb.com/rooms/5570</td>\n",
       "      <td>Ocean front condo on the sand</td>\n",
       "      <td>Missionbeachretreat.   Great Ocean Front Condo...</td>\n",
       "      <td>This charming two bedroom beachfront condomini...</td>\n",
       "      <td>Missionbeachretreat.   Great Ocean Front Condo...</td>\n",
       "      <td>While some may compare San Diego’s Mission Bea...</td>\n",
       "      <td>NaN</td>\n",
       "      <td>Bus #8 goes to La Jolla and Old Town transit c...</td>\n",
       "      <td>2 Bedrooms (1 Queen, 2 Twins)  1 Bath Balcony ...</td>\n",
       "      <td>...</td>\n",
       "      <td>NaN</td>\n",
       "      <td>NaN</td>\n",
       "      <td>NaN</td>\n",
       "      <td>{\"SAN DIEGO\",\" SAN DIEGO TOURISM MARKETING DIS...</td>\n",
       "      <td>f</td>\n",
       "      <td>strict_14_with_grace_period</td>\n",
       "      <td>f</td>\n",
       "      <td>f</td>\n",
       "      <td>2</td>\n",
       "      <td>NaN</td>\n",
       "    </tr>\n",
       "  </tbody>\n",
       "</table>\n",
       "<p>2 rows × 80 columns</p>\n",
       "</div>"
      ],
      "text/plain": [
       "     id                        listing_url  \\\n",
       "0     6     https://www.airbnb.com/rooms/6   \n",
       "1  5570  https://www.airbnb.com/rooms/5570   \n",
       "\n",
       "                                             name  \\\n",
       "0  Large Craftsmen w/ yard ~ Perfect for families   \n",
       "1                   Ocean front condo on the sand   \n",
       "\n",
       "                                             summary  \\\n",
       "0  Our Beautiful Craftsmen house has all the mode...   \n",
       "1  Missionbeachretreat.   Great Ocean Front Condo...   \n",
       "\n",
       "                                               space  \\\n",
       "0  We are located in the heart of North Park, the...   \n",
       "1  This charming two bedroom beachfront condomini...   \n",
       "\n",
       "                                         description  \\\n",
       "0  Our Beautiful Craftsmen house has all the mode...   \n",
       "1  Missionbeachretreat.   Great Ocean Front Condo...   \n",
       "\n",
       "                               neighborhood_overview  \\\n",
       "0  We have the best Neighborhood in San Diego, in...   \n",
       "1  While some may compare San Diego’s Mission Bea...   \n",
       "\n",
       "                                               notes  \\\n",
       "0  The driveway has room for two cars to park tan...   \n",
       "1                                                NaN   \n",
       "\n",
       "                                             transit  \\\n",
       "0  We are right around the corner from a bus stop...   \n",
       "1  Bus #8 goes to La Jolla and Old Town transit c...   \n",
       "\n",
       "                                              access  ...  \\\n",
       "0  Guests will have access to everything in the h...  ...   \n",
       "1  2 Bedrooms (1 Queen, 2 Twins)  1 Bath Balcony ...  ...   \n",
       "\n",
       "  review_scores_communication review_scores_location review_scores_value  \\\n",
       "0                        10.0                   10.0                10.0   \n",
       "1                         NaN                    NaN                 NaN   \n",
       "\n",
       "                                  jurisdiction_names instant_bookable  \\\n",
       "0  {\"SAN DIEGO\",\" SAN DIEGO TOURISM MARKETING DIS...                t   \n",
       "1  {\"SAN DIEGO\",\" SAN DIEGO TOURISM MARKETING DIS...                f   \n",
       "\n",
       "           cancellation_policy require_guest_profile_picture  \\\n",
       "0  strict_14_with_grace_period                             f   \n",
       "1  strict_14_with_grace_period                             f   \n",
       "\n",
       "  require_guest_phone_verification calculated_host_listings_count  \\\n",
       "0                                f                              1   \n",
       "1                                f                              2   \n",
       "\n",
       "  reviews_per_month  \n",
       "0              1.18  \n",
       "1               NaN  \n",
       "\n",
       "[2 rows x 80 columns]"
      ]
     },
     "execution_count": 25,
     "metadata": {},
     "output_type": "execute_result"
    }
   ],
   "source": [
    "listing_data.head(2)"
   ]
  },
  {
   "cell_type": "markdown",
   "metadata": {},
   "source": [
    "### Now lets clean our dataset without unwanted character"
   ]
  },
  {
   "cell_type": "code",
   "execution_count": 26,
   "metadata": {},
   "outputs": [
    {
     "data": {
      "text/plain": [
       "0          $295.00\n",
       "1        $2,050.00\n",
       "2           $84.00\n",
       "3           $69.00\n",
       "4          $160.00\n",
       "           ...    \n",
       "11917       $70.00\n",
       "11918      $150.00\n",
       "11919       $32.00\n",
       "11920       $32.00\n",
       "11921       $55.00\n",
       "Name: price, Length: 11922, dtype: object"
      ]
     },
     "execution_count": 26,
     "metadata": {},
     "output_type": "execute_result"
    }
   ],
   "source": [
    "listing_data['price']"
   ]
  },
  {
   "cell_type": "markdown",
   "metadata": {},
   "source": [
    "**- As we can see the Price colunms contains $ sign infront of each number so lets remove it using regular expression**"
   ]
  },
  {
   "cell_type": "code",
   "execution_count": 27,
   "metadata": {},
   "outputs": [],
   "source": [
    "listing_data['price'] = listing_data['price'].replace('[\\$,]','',regex=True).astype(float)"
   ]
  },
  {
   "cell_type": "code",
   "execution_count": 28,
   "metadata": {},
   "outputs": [
    {
     "data": {
      "text/plain": [
       "0     295.0\n",
       "1    2050.0\n",
       "2      84.0\n",
       "3      69.0\n",
       "4     160.0\n",
       "Name: price, dtype: float64"
      ]
     },
     "execution_count": 28,
     "metadata": {},
     "output_type": "execute_result"
    }
   ],
   "source": [
    "listing_data['price'].head()"
   ]
  },
  {
   "cell_type": "markdown",
   "metadata": {},
   "source": [
    "##### As we are here only getting some insights and not building any model on it. so, we will not going tho do any data imputation,normalization etc here"
   ]
  },
  {
   "cell_type": "markdown",
   "metadata": {},
   "source": [
    "### Taking Listing_brief dataset"
   ]
  },
  {
   "cell_type": "code",
   "execution_count": 29,
   "metadata": {},
   "outputs": [
    {
     "data": {
      "text/html": [
       "<div>\n",
       "<style scoped>\n",
       "    .dataframe tbody tr th:only-of-type {\n",
       "        vertical-align: middle;\n",
       "    }\n",
       "\n",
       "    .dataframe tbody tr th {\n",
       "        vertical-align: top;\n",
       "    }\n",
       "\n",
       "    .dataframe thead th {\n",
       "        text-align: right;\n",
       "    }\n",
       "</style>\n",
       "<table border=\"1\" class=\"dataframe\">\n",
       "  <thead>\n",
       "    <tr style=\"text-align: right;\">\n",
       "      <th></th>\n",
       "      <th>id</th>\n",
       "      <th>name</th>\n",
       "      <th>host_id</th>\n",
       "      <th>host_name</th>\n",
       "      <th>neighbourhood_group</th>\n",
       "      <th>neighbourhood</th>\n",
       "      <th>latitude</th>\n",
       "      <th>longitude</th>\n",
       "      <th>room_type</th>\n",
       "      <th>price</th>\n",
       "      <th>minimum_nights</th>\n",
       "      <th>number_of_reviews</th>\n",
       "      <th>last_review</th>\n",
       "      <th>reviews_per_month</th>\n",
       "      <th>calculated_host_listings_count</th>\n",
       "      <th>availability_365</th>\n",
       "    </tr>\n",
       "  </thead>\n",
       "  <tbody>\n",
       "    <tr>\n",
       "      <th>0</th>\n",
       "      <td>6</td>\n",
       "      <td>Large Craftsmen w/ yard ~ Perfect for families</td>\n",
       "      <td>29</td>\n",
       "      <td>Sara</td>\n",
       "      <td>NaN</td>\n",
       "      <td>North Hills</td>\n",
       "      <td>32.753993</td>\n",
       "      <td>-117.129705</td>\n",
       "      <td>Entire home/apt</td>\n",
       "      <td>295</td>\n",
       "      <td>2</td>\n",
       "      <td>149</td>\n",
       "      <td>2018-10-07</td>\n",
       "      <td>1.18</td>\n",
       "      <td>1</td>\n",
       "      <td>20</td>\n",
       "    </tr>\n",
       "    <tr>\n",
       "      <th>1</th>\n",
       "      <td>5570</td>\n",
       "      <td>Ocean front condo on the sand</td>\n",
       "      <td>8435</td>\n",
       "      <td>Jef Karchin'S MISSIONBEACHRETREAT</td>\n",
       "      <td>NaN</td>\n",
       "      <td>Mission Bay</td>\n",
       "      <td>32.784304</td>\n",
       "      <td>-117.252578</td>\n",
       "      <td>Entire home/apt</td>\n",
       "      <td>2050</td>\n",
       "      <td>3</td>\n",
       "      <td>0</td>\n",
       "      <td>NaN</td>\n",
       "      <td>NaN</td>\n",
       "      <td>2</td>\n",
       "      <td>328</td>\n",
       "    </tr>\n",
       "    <tr>\n",
       "      <th>2</th>\n",
       "      <td>8095</td>\n",
       "      <td>Sunset Cliffs Studio</td>\n",
       "      <td>270</td>\n",
       "      <td>Marin</td>\n",
       "      <td>NaN</td>\n",
       "      <td>Ocean Beach</td>\n",
       "      <td>32.735170</td>\n",
       "      <td>-117.243793</td>\n",
       "      <td>Entire home/apt</td>\n",
       "      <td>84</td>\n",
       "      <td>2</td>\n",
       "      <td>178</td>\n",
       "      <td>2015-11-02</td>\n",
       "      <td>1.56</td>\n",
       "      <td>1</td>\n",
       "      <td>0</td>\n",
       "    </tr>\n",
       "    <tr>\n",
       "      <th>3</th>\n",
       "      <td>39516</td>\n",
       "      <td>Art Studio Retreat/Rustic Cabin</td>\n",
       "      <td>169649</td>\n",
       "      <td>Chris  And Jean</td>\n",
       "      <td>NaN</td>\n",
       "      <td>North Hills</td>\n",
       "      <td>32.731884</td>\n",
       "      <td>-117.119180</td>\n",
       "      <td>Entire home/apt</td>\n",
       "      <td>69</td>\n",
       "      <td>3</td>\n",
       "      <td>338</td>\n",
       "      <td>2018-11-07</td>\n",
       "      <td>3.33</td>\n",
       "      <td>1</td>\n",
       "      <td>273</td>\n",
       "    </tr>\n",
       "    <tr>\n",
       "      <th>4</th>\n",
       "      <td>45429</td>\n",
       "      <td>OB cottage SD--view on waterway</td>\n",
       "      <td>197919</td>\n",
       "      <td>Melissa</td>\n",
       "      <td>NaN</td>\n",
       "      <td>Loma Portal</td>\n",
       "      <td>32.748768</td>\n",
       "      <td>-117.229371</td>\n",
       "      <td>Entire home/apt</td>\n",
       "      <td>160</td>\n",
       "      <td>2</td>\n",
       "      <td>6</td>\n",
       "      <td>2014-07-28</td>\n",
       "      <td>0.06</td>\n",
       "      <td>1</td>\n",
       "      <td>363</td>\n",
       "    </tr>\n",
       "  </tbody>\n",
       "</table>\n",
       "</div>"
      ],
      "text/plain": [
       "      id                                            name  host_id  \\\n",
       "0      6  Large Craftsmen w/ yard ~ Perfect for families       29   \n",
       "1   5570                   Ocean front condo on the sand     8435   \n",
       "2   8095                            Sunset Cliffs Studio      270   \n",
       "3  39516                 Art Studio Retreat/Rustic Cabin   169649   \n",
       "4  45429                 OB cottage SD--view on waterway   197919   \n",
       "\n",
       "                           host_name  neighbourhood_group neighbourhood  \\\n",
       "0                               Sara                  NaN   North Hills   \n",
       "1  Jef Karchin'S MISSIONBEACHRETREAT                  NaN   Mission Bay   \n",
       "2                              Marin                  NaN   Ocean Beach   \n",
       "3                    Chris  And Jean                  NaN   North Hills   \n",
       "4                            Melissa                  NaN   Loma Portal   \n",
       "\n",
       "    latitude   longitude        room_type  price  minimum_nights  \\\n",
       "0  32.753993 -117.129705  Entire home/apt    295               2   \n",
       "1  32.784304 -117.252578  Entire home/apt   2050               3   \n",
       "2  32.735170 -117.243793  Entire home/apt     84               2   \n",
       "3  32.731884 -117.119180  Entire home/apt     69               3   \n",
       "4  32.748768 -117.229371  Entire home/apt    160               2   \n",
       "\n",
       "   number_of_reviews last_review  reviews_per_month  \\\n",
       "0                149  2018-10-07               1.18   \n",
       "1                  0         NaN                NaN   \n",
       "2                178  2015-11-02               1.56   \n",
       "3                338  2018-11-07               3.33   \n",
       "4                  6  2014-07-28               0.06   \n",
       "\n",
       "   calculated_host_listings_count  availability_365  \n",
       "0                               1                20  \n",
       "1                               2               328  \n",
       "2                               1                 0  \n",
       "3                               1               273  \n",
       "4                               1               363  "
      ]
     },
     "execution_count": 29,
     "metadata": {},
     "output_type": "execute_result"
    }
   ],
   "source": [
    "listing_brief_data.head()"
   ]
  },
  {
   "cell_type": "code",
   "execution_count": 30,
   "metadata": {},
   "outputs": [
    {
     "data": {
      "text/plain": [
       "(11922, 16)"
      ]
     },
     "execution_count": 30,
     "metadata": {},
     "output_type": "execute_result"
    }
   ],
   "source": [
    "listing_brief_data.shape"
   ]
  },
  {
   "cell_type": "markdown",
   "metadata": {},
   "source": [
    "**- There are 11922 observation and 16 features.**"
   ]
  },
  {
   "cell_type": "code",
   "execution_count": 31,
   "metadata": {},
   "outputs": [],
   "source": [
    "## Lets check null values"
   ]
  },
  {
   "cell_type": "code",
   "execution_count": 32,
   "metadata": {},
   "outputs": [
    {
     "data": {
      "text/plain": [
       "id                                    0\n",
       "name                                  2\n",
       "host_id                               0\n",
       "host_name                             6\n",
       "neighbourhood_group               11922\n",
       "neighbourhood                         0\n",
       "latitude                              0\n",
       "longitude                             0\n",
       "room_type                             0\n",
       "price                                 0\n",
       "minimum_nights                        0\n",
       "number_of_reviews                     0\n",
       "last_review                        2160\n",
       "reviews_per_month                  2163\n",
       "calculated_host_listings_count        0\n",
       "availability_365                      0\n",
       "dtype: int64"
      ]
     },
     "execution_count": 32,
     "metadata": {},
     "output_type": "execute_result"
    }
   ],
   "source": [
    "listing_brief_data.isnull().sum()"
   ]
  },
  {
   "cell_type": "code",
   "execution_count": 33,
   "metadata": {},
   "outputs": [
    {
     "data": {
      "text/plain": [
       "<matplotlib.axes._subplots.AxesSubplot at 0x1d3473fcb38>"
      ]
     },
     "execution_count": 33,
     "metadata": {},
     "output_type": "execute_result"
    },
    {
     "data": {
      "image/png": "[encoded data removed]",
      "text/plain": [
       "<Figure size 576x396 with 2 Axes>"
      ]
     },
     "metadata": {},
     "output_type": "display_data"
    }
   ],
   "source": [
    "sns.heatmap(listing_brief_data.isnull())"
   ]
  },
  {
   "cell_type": "code",
   "execution_count": null,
   "metadata": {},
   "outputs": [],
   "source": [
    "## As 'neighbourhood_group' columns is having more null values so we can drop it               "
   ]
  },
  {
   "cell_type": "code",
   "execution_count": 34,
   "metadata": {},
   "outputs": [],
   "source": [
    "listing_brief_data.drop(columns=['neighbourhood_group'],inplace= True)"
   ]
  },
  {
   "cell_type": "code",
   "execution_count": 35,
   "metadata": {},
   "outputs": [
    {
     "data": {
      "text/plain": [
       "(11922, 15)"
      ]
     },
     "execution_count": 35,
     "metadata": {},
     "output_type": "execute_result"
    }
   ],
   "source": [
    "listing_brief_data.shape"
   ]
  },
  {
   "cell_type": "markdown",
   "metadata": {},
   "source": [
    "#### Now Lets merge both the datasets \"listing_data\" and \"listing_brief_data\""
   ]
  },
  {
   "cell_type": "code",
   "execution_count": 37,
   "metadata": {},
   "outputs": [
    {
     "data": {
      "text/plain": [
       "(5327, 80)"
      ]
     },
     "execution_count": 37,
     "metadata": {},
     "output_type": "execute_result"
    }
   ],
   "source": [
    "merged_listing = pd.merge(listing_data, listing_brief_data)\n",
    "merged_listing.shape"
   ]
  },
  {
   "cell_type": "code",
   "execution_count": 38,
   "metadata": {},
   "outputs": [
    {
     "data": {
      "text/html": [
       "<div>\n",
       "<style scoped>\n",
       "    .dataframe tbody tr th:only-of-type {\n",
       "        vertical-align: middle;\n",
       "    }\n",
       "\n",
       "    .dataframe tbody tr th {\n",
       "        vertical-align: top;\n",
       "    }\n",
       "\n",
       "    .dataframe thead th {\n",
       "        text-align: right;\n",
       "    }\n",
       "</style>\n",
       "<table border=\"1\" class=\"dataframe\">\n",
       "  <thead>\n",
       "    <tr style=\"text-align: right;\">\n",
       "      <th></th>\n",
       "      <th>id</th>\n",
       "      <th>listing_url</th>\n",
       "      <th>name</th>\n",
       "      <th>summary</th>\n",
       "      <th>space</th>\n",
       "      <th>description</th>\n",
       "      <th>neighborhood_overview</th>\n",
       "      <th>notes</th>\n",
       "      <th>transit</th>\n",
       "      <th>access</th>\n",
       "      <th>...</th>\n",
       "      <th>review_scores_communication</th>\n",
       "      <th>review_scores_location</th>\n",
       "      <th>review_scores_value</th>\n",
       "      <th>jurisdiction_names</th>\n",
       "      <th>instant_bookable</th>\n",
       "      <th>cancellation_policy</th>\n",
       "      <th>require_guest_profile_picture</th>\n",
       "      <th>require_guest_phone_verification</th>\n",
       "      <th>calculated_host_listings_count</th>\n",
       "      <th>reviews_per_month</th>\n",
       "    </tr>\n",
       "  </thead>\n",
       "  <tbody>\n",
       "    <tr>\n",
       "      <th>0</th>\n",
       "      <td>54001</td>\n",
       "      <td>https://www.airbnb.com/rooms/54001</td>\n",
       "      <td>La Jolla Peaceful: Sitting Room, Breakfast</td>\n",
       "      <td>NaN</td>\n",
       "      <td>The Peaceful is  one of two bedrooms in the de...</td>\n",
       "      <td>The Peaceful is  one of two bedrooms in the de...</td>\n",
       "      <td>Tranquility, stately trees, meditative, zen-fu...</td>\n",
       "      <td>Also on Airbnb and available at the same prope...</td>\n",
       "      <td>If you are debating between renting a car or '...</td>\n",
       "      <td>All common areas.</td>\n",
       "      <td>...</td>\n",
       "      <td>10.0</td>\n",
       "      <td>10.0</td>\n",
       "      <td>10.0</td>\n",
       "      <td>{\"SAN DIEGO\",\" SAN DIEGO TOURISM MARKETING DIS...</td>\n",
       "      <td>f</td>\n",
       "      <td>flexible</td>\n",
       "      <td>f</td>\n",
       "      <td>t</td>\n",
       "      <td>4</td>\n",
       "      <td>1.82</td>\n",
       "    </tr>\n",
       "  </tbody>\n",
       "</table>\n",
       "<p>1 rows × 80 columns</p>\n",
       "</div>"
      ],
      "text/plain": [
       "      id                         listing_url  \\\n",
       "0  54001  https://www.airbnb.com/rooms/54001   \n",
       "\n",
       "                                         name summary  \\\n",
       "0  La Jolla Peaceful: Sitting Room, Breakfast     NaN   \n",
       "\n",
       "                                               space  \\\n",
       "0  The Peaceful is  one of two bedrooms in the de...   \n",
       "\n",
       "                                         description  \\\n",
       "0  The Peaceful is  one of two bedrooms in the de...   \n",
       "\n",
       "                               neighborhood_overview  \\\n",
       "0  Tranquility, stately trees, meditative, zen-fu...   \n",
       "\n",
       "                                               notes  \\\n",
       "0  Also on Airbnb and available at the same prope...   \n",
       "\n",
       "                                             transit             access  ...  \\\n",
       "0  If you are debating between renting a car or '...  All common areas.  ...   \n",
       "\n",
       "  review_scores_communication review_scores_location review_scores_value  \\\n",
       "0                        10.0                   10.0                10.0   \n",
       "\n",
       "                                  jurisdiction_names instant_bookable  \\\n",
       "0  {\"SAN DIEGO\",\" SAN DIEGO TOURISM MARKETING DIS...                f   \n",
       "\n",
       "  cancellation_policy require_guest_profile_picture  \\\n",
       "0            flexible                             f   \n",
       "\n",
       "  require_guest_phone_verification calculated_host_listings_count  \\\n",
       "0                                t                              4   \n",
       "\n",
       "  reviews_per_month  \n",
       "0              1.82  \n",
       "\n",
       "[1 rows x 80 columns]"
      ]
     },
     "execution_count": 38,
     "metadata": {},
     "output_type": "execute_result"
    }
   ],
   "source": [
    "merged_listing.head(1)"
   ]
  },
  {
   "cell_type": "code",
   "execution_count": 39,
   "metadata": {},
   "outputs": [],
   "source": [
    "## lets see all the columns names"
   ]
  },
  {
   "cell_type": "code",
   "execution_count": 41,
   "metadata": {},
   "outputs": [
    {
     "data": {
      "text/plain": [
       "Index(['id', 'listing_url', 'name', 'summary', 'space', 'description',\n",
       "       'neighborhood_overview', 'notes', 'transit', 'access', 'interaction',\n",
       "       'house_rules', 'picture_url', 'host_id', 'host_url', 'host_name',\n",
       "       'host_since', 'host_location', 'host_about', 'host_response_time',\n",
       "       'host_response_rate', 'host_is_superhost', 'host_thumbnail_url',\n",
       "       'host_picture_url', 'host_neighbourhood', 'host_listings_count',\n",
       "       'host_verifications', 'host_has_profile_pic', 'host_identity_verified',\n",
       "       'street', 'neighbourhood', 'neighbourhood_cleansed', 'city', 'state',\n",
       "       'zipcode', 'market', 'smart_location', 'country_code', 'country',\n",
       "       'latitude', 'longitude', 'is_location_exact', 'property_type',\n",
       "       'room_type', 'accommodates', 'bathrooms', 'bedrooms', 'beds',\n",
       "       'bed_type', 'amenities', 'price', 'security_deposit', 'cleaning_fee',\n",
       "       'guests_included', 'extra_people', 'minimum_nights', 'maximum_nights',\n",
       "       'calendar_updated', 'availability_30', 'availability_60',\n",
       "       'availability_90', 'availability_365', 'calendar_last_scraped',\n",
       "       'number_of_reviews', 'first_review', 'last_review',\n",
       "       'review_scores_rating', 'review_scores_accuracy',\n",
       "       'review_scores_cleanliness', 'review_scores_checkin',\n",
       "       'review_scores_communication', 'review_scores_location',\n",
       "       'review_scores_value', 'jurisdiction_names', 'instant_bookable',\n",
       "       'cancellation_policy', 'require_guest_profile_picture',\n",
       "       'require_guest_phone_verification', 'calculated_host_listings_count',\n",
       "       'reviews_per_month'],\n",
       "      dtype='object')"
      ]
     },
     "execution_count": 41,
     "metadata": {},
     "output_type": "execute_result"
    }
   ],
   "source": [
    "merged_listing.columns"
   ]
  },
  {
   "cell_type": "markdown",
   "metadata": {},
   "source": [
    "#### Lets see how many unique elements are there in some of the different columns"
   ]
  },
  {
   "cell_type": "code",
   "execution_count": 44,
   "metadata": {},
   "outputs": [
    {
     "data": {
      "text/plain": [
       "array(['La Jolla, CA, United States', 'San Diego, CA, United States',\n",
       "       'La Jolla , CA, United States', 'Del Mar, CA, United States',\n",
       "       'San Diego , CA, United States', 'Ocean Beach, CA, United States',\n",
       "       'la jolla, CA, United States', 'San diego, CA, United States',\n",
       "       'La jolla, CA, United States',\n",
       "       'Ocean Beach, San Diego, CA, United States',\n",
       "       'LA JOLLA, CA, United States',\n",
       "       'La Jolla, San Diego, CA, United States',\n",
       "       'La Mesa, CA, United States', 'Alpine, CA, United States',\n",
       "       'SAN DIEGO, CA, United States', 'La Jolla , Ca, United States',\n",
       "       'Del Mar Highlands , CA, United States',\n",
       "       'San Diego, California, US, CA, United States',\n",
       "       'سان دييغو, CA, United States', 'Pacific Beach, CA, United States',\n",
       "       ' La Jolla, CA, United States',\n",
       "       'La Jolla Shores, CA, United States',\n",
       "       'Newport Beach, CA, United States',\n",
       "       'Gas lamp San Diego, CA, United States',\n",
       "       'Pacific Beach , CA, United States',\n",
       "       'National City, CA, United States', 'CA, United States',\n",
       "       'Solana Beach, CA, United States'], dtype=object)"
      ]
     },
     "execution_count": 44,
     "metadata": {},
     "output_type": "execute_result"
    }
   ],
   "source": [
    "merged_listing['street'].unique()"
   ]
  },
  {
   "cell_type": "code",
   "execution_count": 45,
   "metadata": {},
   "outputs": [
    {
     "data": {
      "text/plain": [
       "28"
      ]
     },
     "execution_count": 45,
     "metadata": {},
     "output_type": "execute_result"
    }
   ],
   "source": [
    "merged_listing['street'].nunique()"
   ]
  },
  {
   "cell_type": "markdown",
   "metadata": {},
   "source": [
    "**- We can say that there are 28 diffrent types of street are present**"
   ]
  },
  {
   "cell_type": "code",
   "execution_count": 46,
   "metadata": {},
   "outputs": [
    {
     "data": {
      "text/plain": [
       "array(['Private room', 'Entire home/apt', 'Shared room'], dtype=object)"
      ]
     },
     "execution_count": 46,
     "metadata": {},
     "output_type": "execute_result"
    }
   ],
   "source": [
    "merged_listing['room_type'].unique()"
   ]
  },
  {
   "cell_type": "markdown",
   "metadata": {},
   "source": [
    "**- There are 3 different room_type available**"
   ]
  },
  {
   "cell_type": "code",
   "execution_count": 43,
   "metadata": {},
   "outputs": [
    {
     "data": {
      "text/plain": [
       "array(['La Jolla', 'San Diego', 'La Jolla ', 'Del Mar', 'San Diego ',\n",
       "       'Ocean Beach', 'la jolla', 'San diego', 'La jolla',\n",
       "       'Ocean Beach, San Diego', 'LA JOLLA', 'La Jolla, San Diego',\n",
       "       'La Mesa', 'Alpine', 'SAN DIEGO', 'Del Mar Highlands ',\n",
       "       'San Diego, California, US', 'سان دييغو', 'Pacific Beach',\n",
       "       ' La Jolla', 'La Jolla Shores', 'Newport Beach',\n",
       "       'Gas lamp San Diego', 'Pacific Beach ', 'National City', 'CA',\n",
       "       'Solana Beach'], dtype=object)"
      ]
     },
     "execution_count": 43,
     "metadata": {},
     "output_type": "execute_result"
    }
   ],
   "source": [
    "merged_listing['city'].unique()"
   ]
  },
  {
   "cell_type": "code",
   "execution_count": 47,
   "metadata": {},
   "outputs": [
    {
     "data": {
      "text/plain": [
       "27"
      ]
     },
     "execution_count": 47,
     "metadata": {},
     "output_type": "execute_result"
    }
   ],
   "source": [
    "merged_listing['city'].nunique()"
   ]
  },
  {
   "cell_type": "markdown",
   "metadata": {},
   "source": [
    "**- Now there are 27 different cities.But Some same city is written in diffrent style. So now we will make them one same type** "
   ]
  },
  {
   "cell_type": "code",
   "execution_count": 52,
   "metadata": {},
   "outputs": [
    {
     "data": {
      "text/plain": [
       "array(['La Jolla', 'San Diego', 'Del Mar', 'Ocean Beach', 'La Mesa',\n",
       "       'Alpine', 'سان دييغو', 'Pacific Beach', 'Newport Beach',\n",
       "       'Gas lamp San Diego', 'National City', 'CA', 'Solana Beach'],\n",
       "      dtype=object)"
      ]
     },
     "execution_count": 52,
     "metadata": {},
     "output_type": "execute_result"
    }
   ],
   "source": [
    "merged_listing.city.replace( 'La Jolla ', 'La Jolla',inplace = True)\n",
    "merged_listing.city.replace( 'la jolla', 'La Jolla',inplace = True)\n",
    "merged_listing.city.replace( 'La jolla', 'La Jolla',inplace = True)\n",
    "merged_listing.city.replace( 'LA JOLLA', 'La Jolla',inplace = True)\n",
    "merged_listing.city.replace( 'La Jolla, San Diego', 'La Jolla',inplace = True)\n",
    "merged_listing.city.replace( 'La Jolla Shores', 'La Jolla',inplace = True)\n",
    "merged_listing.city.replace( ' La Jolla', 'La Jolla',inplace = True)\n",
    "merged_listing.city.replace( 'SAN DIEGO', 'San Diego',inplace = True)\n",
    "merged_listing.city.replace( 'San Diego, California, US', 'San Diego',inplace = True)\n",
    "merged_listing.city.replace( 'San Diego ', 'San Diego',inplace = True)\n",
    "merged_listing.city.replace( 'San diego ', 'San Diego',inplace = True)\n",
    "merged_listing.city.replace( 'Ocean Beach, San Diego', 'Ocean Beach',inplace = True)\n",
    "merged_listing.city.replace( 'San diego', 'San Diego',inplace = True)\n",
    "merged_listing.city.replace( 'Pacific Beach ', 'Pacific Beach',inplace = True)\n",
    "merged_listing.city.replace( 'Del Mar Highlands ', 'Del Mar',inplace = True)\n",
    "merged_listing['city'].unique()"
   ]
  },
  {
   "cell_type": "code",
   "execution_count": 51,
   "metadata": {},
   "outputs": [
    {
     "data": {
      "text/plain": [
       "13"
      ]
     },
     "execution_count": 51,
     "metadata": {},
     "output_type": "execute_result"
    }
   ],
   "source": [
    "merged_listing['city'].nunique()"
   ]
  },
  {
   "cell_type": "markdown",
   "metadata": {},
   "source": [
    "**- Now we can say there  are 13 different cities are present in this dataset.**"
   ]
  },
  {
   "cell_type": "markdown",
   "metadata": {},
   "source": [
    "### Now Taking Calender Dataset"
   ]
  },
  {
   "cell_type": "code",
   "execution_count": 54,
   "metadata": {},
   "outputs": [
    {
     "data": {
      "text/html": [
       "<div>\n",
       "<style scoped>\n",
       "    .dataframe tbody tr th:only-of-type {\n",
       "        vertical-align: middle;\n",
       "    }\n",
       "\n",
       "    .dataframe tbody tr th {\n",
       "        vertical-align: top;\n",
       "    }\n",
       "\n",
       "    .dataframe thead th {\n",
       "        text-align: right;\n",
       "    }\n",
       "</style>\n",
       "<table border=\"1\" class=\"dataframe\">\n",
       "  <thead>\n",
       "    <tr style=\"text-align: right;\">\n",
       "      <th></th>\n",
       "      <th>listing_id</th>\n",
       "      <th>date</th>\n",
       "      <th>available</th>\n",
       "      <th>price</th>\n",
       "    </tr>\n",
       "  </thead>\n",
       "  <tbody>\n",
       "    <tr>\n",
       "      <th>0</th>\n",
       "      <td>635756</td>\n",
       "      <td>2019-11-14</td>\n",
       "      <td>t</td>\n",
       "      <td>$67.00</td>\n",
       "    </tr>\n",
       "    <tr>\n",
       "      <th>1</th>\n",
       "      <td>292285</td>\n",
       "      <td>2019-11-14</td>\n",
       "      <td>f</td>\n",
       "      <td>NaN</td>\n",
       "    </tr>\n",
       "    <tr>\n",
       "      <th>2</th>\n",
       "      <td>292285</td>\n",
       "      <td>2019-11-13</td>\n",
       "      <td>f</td>\n",
       "      <td>NaN</td>\n",
       "    </tr>\n",
       "  </tbody>\n",
       "</table>\n",
       "</div>"
      ],
      "text/plain": [
       "   listing_id        date available   price\n",
       "0      635756  2019-11-14         t  $67.00\n",
       "1      292285  2019-11-14         f     NaN\n",
       "2      292285  2019-11-13         f     NaN"
      ]
     },
     "execution_count": 54,
     "metadata": {},
     "output_type": "execute_result"
    }
   ],
   "source": [
    "cal_data.head(3)"
   ]
  },
  {
   "cell_type": "code",
   "execution_count": 55,
   "metadata": {},
   "outputs": [
    {
     "data": {
      "text/plain": [
       "(4351530, 4)"
      ]
     },
     "execution_count": 55,
     "metadata": {},
     "output_type": "execute_result"
    }
   ],
   "source": [
    "cal_data.shape"
   ]
  },
  {
   "cell_type": "markdown",
   "metadata": {},
   "source": [
    "**- Here we can see that Calender Dataset is having 4351530 observations and 4 features**"
   ]
  },
  {
   "cell_type": "code",
   "execution_count": 56,
   "metadata": {},
   "outputs": [
    {
     "data": {
      "text/plain": [
       "listing_id          0\n",
       "date                0\n",
       "available           0\n",
       "price         2533587\n",
       "dtype: int64"
      ]
     },
     "execution_count": 56,
     "metadata": {},
     "output_type": "execute_result"
    }
   ],
   "source": [
    "cal_data.isnull().sum()"
   ]
  },
  {
   "cell_type": "code",
   "execution_count": 57,
   "metadata": {},
   "outputs": [
    {
     "data": {
      "text/plain": [
       "<matplotlib.axes._subplots.AxesSubplot at 0x1d3481dbba8>"
      ]
     },
     "execution_count": 57,
     "metadata": {},
     "output_type": "execute_result"
    },
    {
     "data": {
      "image/png": "[encoded data removed]",
      "text/plain": [
       "<Figure size 576x396 with 2 Axes>"
      ]
     },
     "metadata": {},
     "output_type": "display_data"
    }
   ],
   "source": [
    "sns.heatmap(cal_data.isnull())"
   ]
  },
  {
   "cell_type": "markdown",
   "metadata": {},
   "source": [
    "**- We can see here that in calender dataset the \"price\" column contains too many null values. But We cannot drop it as \"price\" is very much important Features in any Analysis. So we will impute it with the \"Mode\" of the price columns.**"
   ]
  },
  {
   "cell_type": "code",
   "execution_count": null,
   "metadata": {},
   "outputs": [],
   "source": [
    "### Lets Remove the $ sign first then impute it with mode"
   ]
  },
  {
   "cell_type": "code",
   "execution_count": 58,
   "metadata": {},
   "outputs": [],
   "source": [
    "cal_data['price'] = cal_data['price'].replace('[\\$,]','',regex=True).astype(float)"
   ]
  },
  {
   "cell_type": "code",
   "execution_count": 59,
   "metadata": {},
   "outputs": [
    {
     "data": {
      "text/plain": [
       "0    67.0\n",
       "1     NaN\n",
       "2     NaN\n",
       "3     NaN\n",
       "4     NaN\n",
       "Name: price, dtype: float64"
      ]
     },
     "execution_count": 59,
     "metadata": {},
     "output_type": "execute_result"
    }
   ],
   "source": [
    "cal_data['price'].head()"
   ]
  },
  {
   "cell_type": "code",
   "execution_count": 61,
   "metadata": {},
   "outputs": [
    {
     "data": {
      "text/plain": [
       "0    99.0\n",
       "dtype: float64"
      ]
     },
     "execution_count": 61,
     "metadata": {},
     "output_type": "execute_result"
    }
   ],
   "source": [
    "cal_data['price'].mode()"
   ]
  },
  {
   "cell_type": "code",
   "execution_count": 62,
   "metadata": {},
   "outputs": [],
   "source": [
    "cal_data[\"price\"].fillna(cal_data[\"price\"].mode()[0], inplace=True)"
   ]
  },
  {
   "cell_type": "code",
   "execution_count": 64,
   "metadata": {},
   "outputs": [
    {
     "data": {
      "text/plain": [
       "<matplotlib.axes._subplots.AxesSubplot at 0x1d3482b5438>"
      ]
     },
     "execution_count": 64,
     "metadata": {},
     "output_type": "execute_result"
    },
    {
     "data": {
      "image/png": "[encoded data removed]",
      "text/plain": [
       "<Figure size 576x396 with 2 Axes>"
      ]
     },
     "metadata": {},
     "output_type": "display_data"
    }
   ],
   "source": [
    "sns.heatmap(cal_data.isnull())"
   ]
  },
  {
   "cell_type": "markdown",
   "metadata": {},
   "source": [
    "## Taking Reviews and Reviews Brief data"
   ]
  },
  {
   "cell_type": "code",
   "execution_count": 65,
   "metadata": {},
   "outputs": [
    {
     "data": {
      "text/html": [
       "<div>\n",
       "<style scoped>\n",
       "    .dataframe tbody tr th:only-of-type {\n",
       "        vertical-align: middle;\n",
       "    }\n",
       "\n",
       "    .dataframe tbody tr th {\n",
       "        vertical-align: top;\n",
       "    }\n",
       "\n",
       "    .dataframe thead th {\n",
       "        text-align: right;\n",
       "    }\n",
       "</style>\n",
       "<table border=\"1\" class=\"dataframe\">\n",
       "  <thead>\n",
       "    <tr style=\"text-align: right;\">\n",
       "      <th></th>\n",
       "      <th>listing_id</th>\n",
       "      <th>id</th>\n",
       "      <th>date</th>\n",
       "      <th>reviewer_id</th>\n",
       "      <th>reviewer_name</th>\n",
       "      <th>comments</th>\n",
       "    </tr>\n",
       "  </thead>\n",
       "  <tbody>\n",
       "    <tr>\n",
       "      <th>0</th>\n",
       "      <td>6</td>\n",
       "      <td>8</td>\n",
       "      <td>2008-06-22</td>\n",
       "      <td>415</td>\n",
       "      <td>Terrence</td>\n",
       "      <td>Sara is an awesome hostess.  She was very cons...</td>\n",
       "    </tr>\n",
       "    <tr>\n",
       "      <th>1</th>\n",
       "      <td>6</td>\n",
       "      <td>4383</td>\n",
       "      <td>2009-06-22</td>\n",
       "      <td>3762</td>\n",
       "      <td>Christine</td>\n",
       "      <td>My stay at “Craftsmen” was wonderful!  Sara wa...</td>\n",
       "    </tr>\n",
       "  </tbody>\n",
       "</table>\n",
       "</div>"
      ],
      "text/plain": [
       "   listing_id    id        date  reviewer_id reviewer_name  \\\n",
       "0           6     8  2008-06-22          415      Terrence   \n",
       "1           6  4383  2009-06-22         3762     Christine   \n",
       "\n",
       "                                            comments  \n",
       "0  Sara is an awesome hostess.  She was very cons...  \n",
       "1  My stay at “Craftsmen” was wonderful!  Sara wa...  "
      ]
     },
     "execution_count": 65,
     "metadata": {},
     "output_type": "execute_result"
    }
   ],
   "source": [
    "review_data.head(2)"
   ]
  },
  {
   "cell_type": "code",
   "execution_count": 67,
   "metadata": {},
   "outputs": [
    {
     "data": {
      "text/plain": [
       "(344404, 6)"
      ]
     },
     "execution_count": 67,
     "metadata": {},
     "output_type": "execute_result"
    }
   ],
   "source": [
    "review_data.shape"
   ]
  },
  {
   "cell_type": "code",
   "execution_count": 68,
   "metadata": {},
   "outputs": [
    {
     "data": {
      "text/plain": [
       "listing_id         0\n",
       "id                 0\n",
       "date               0\n",
       "reviewer_id        0\n",
       "reviewer_name      1\n",
       "comments         417\n",
       "dtype: int64"
      ]
     },
     "execution_count": 68,
     "metadata": {},
     "output_type": "execute_result"
    }
   ],
   "source": [
    "review_data.isnull().sum()"
   ]
  },
  {
   "cell_type": "code",
   "execution_count": 69,
   "metadata": {},
   "outputs": [
    {
     "data": {
      "text/plain": [
       "<matplotlib.axes._subplots.AxesSubplot at 0x1d34a97e320>"
      ]
     },
     "execution_count": 69,
     "metadata": {},
     "output_type": "execute_result"
    },
    {
     "data": {
      "image/png": "[encoded data removed]",
      "text/plain": [
       "<Figure size 576x396 with 2 Axes>"
      ]
     },
     "metadata": {},
     "output_type": "display_data"
    }
   ],
   "source": [
    "sns.heatmap(review_data.isnull())"
   ]
  },
  {
   "cell_type": "markdown",
   "metadata": {},
   "source": [
    "**- As we can see there are negligible null values in review dataset set so we can ignore this null values for now** "
   ]
  },
  {
   "cell_type": "code",
   "execution_count": 70,
   "metadata": {},
   "outputs": [],
   "source": [
    "### Lets see review_brief data"
   ]
  },
  {
   "cell_type": "code",
   "execution_count": 71,
   "metadata": {},
   "outputs": [
    {
     "data": {
      "text/html": [
       "<div>\n",
       "<style scoped>\n",
       "    .dataframe tbody tr th:only-of-type {\n",
       "        vertical-align: middle;\n",
       "    }\n",
       "\n",
       "    .dataframe tbody tr th {\n",
       "        vertical-align: top;\n",
       "    }\n",
       "\n",
       "    .dataframe thead th {\n",
       "        text-align: right;\n",
       "    }\n",
       "</style>\n",
       "<table border=\"1\" class=\"dataframe\">\n",
       "  <thead>\n",
       "    <tr style=\"text-align: right;\">\n",
       "      <th></th>\n",
       "      <th>listing_id</th>\n",
       "      <th>date</th>\n",
       "    </tr>\n",
       "  </thead>\n",
       "  <tbody>\n",
       "    <tr>\n",
       "      <th>0</th>\n",
       "      <td>6</td>\n",
       "      <td>2008-06-22</td>\n",
       "    </tr>\n",
       "    <tr>\n",
       "      <th>1</th>\n",
       "      <td>6</td>\n",
       "      <td>2009-06-22</td>\n",
       "    </tr>\n",
       "  </tbody>\n",
       "</table>\n",
       "</div>"
      ],
      "text/plain": [
       "   listing_id        date\n",
       "0           6  2008-06-22\n",
       "1           6  2009-06-22"
      ]
     },
     "execution_count": 71,
     "metadata": {},
     "output_type": "execute_result"
    }
   ],
   "source": [
    "review_brief_data.head(2)"
   ]
  },
  {
   "cell_type": "code",
   "execution_count": 72,
   "metadata": {},
   "outputs": [
    {
     "data": {
      "text/plain": [
       "(344404, 2)"
      ]
     },
     "execution_count": 72,
     "metadata": {},
     "output_type": "execute_result"
    }
   ],
   "source": [
    "review_brief_data.shape"
   ]
  },
  {
   "cell_type": "code",
   "execution_count": 73,
   "metadata": {},
   "outputs": [
    {
     "data": {
      "text/plain": [
       "listing_id    0\n",
       "date          0\n",
       "dtype: int64"
      ]
     },
     "execution_count": 73,
     "metadata": {},
     "output_type": "execute_result"
    }
   ],
   "source": [
    "review_brief_data.isnull().sum()"
   ]
  },
  {
   "cell_type": "markdown",
   "metadata": {},
   "source": [
    "**- As in review_brief_data same features are present as in review dataset so it is reductant to take it as all the information we can take from the review dataset only.**\n",
    "**- So ignoring review_brief_data dataset as it will not give any new information.**"
   ]
  },
  {
   "cell_type": "markdown",
   "metadata": {},
   "source": [
    "### Taking  Neighbourhoods data"
   ]
  },
  {
   "cell_type": "code",
   "execution_count": 75,
   "metadata": {},
   "outputs": [
    {
     "data": {
      "text/html": [
       "<div>\n",
       "<style scoped>\n",
       "    .dataframe tbody tr th:only-of-type {\n",
       "        vertical-align: middle;\n",
       "    }\n",
       "\n",
       "    .dataframe tbody tr th {\n",
       "        vertical-align: top;\n",
       "    }\n",
       "\n",
       "    .dataframe thead th {\n",
       "        text-align: right;\n",
       "    }\n",
       "</style>\n",
       "<table border=\"1\" class=\"dataframe\">\n",
       "  <thead>\n",
       "    <tr style=\"text-align: right;\">\n",
       "      <th></th>\n",
       "      <th>neighbourhood_group</th>\n",
       "      <th>neighbourhood</th>\n",
       "    </tr>\n",
       "  </thead>\n",
       "  <tbody>\n",
       "    <tr>\n",
       "      <th>0</th>\n",
       "      <td>NaN</td>\n",
       "      <td>Allied Gardens</td>\n",
       "    </tr>\n",
       "    <tr>\n",
       "      <th>1</th>\n",
       "      <td>NaN</td>\n",
       "      <td>Alta Vista</td>\n",
       "    </tr>\n",
       "    <tr>\n",
       "      <th>2</th>\n",
       "      <td>NaN</td>\n",
       "      <td>Amphitheater And Water Park</td>\n",
       "    </tr>\n",
       "    <tr>\n",
       "      <th>3</th>\n",
       "      <td>NaN</td>\n",
       "      <td>Balboa Park</td>\n",
       "    </tr>\n",
       "    <tr>\n",
       "      <th>4</th>\n",
       "      <td>NaN</td>\n",
       "      <td>Bario Logan</td>\n",
       "    </tr>\n",
       "  </tbody>\n",
       "</table>\n",
       "</div>"
      ],
      "text/plain": [
       "   neighbourhood_group                neighbourhood\n",
       "0                  NaN               Allied Gardens\n",
       "1                  NaN                   Alta Vista\n",
       "2                  NaN  Amphitheater And Water Park\n",
       "3                  NaN                  Balboa Park\n",
       "4                  NaN                  Bario Logan"
      ]
     },
     "execution_count": 75,
     "metadata": {},
     "output_type": "execute_result"
    }
   ],
   "source": [
    "neighbour_data.head(5)"
   ]
  },
  {
   "cell_type": "code",
   "execution_count": 76,
   "metadata": {},
   "outputs": [
    {
     "data": {
      "text/plain": [
       "(108, 2)"
      ]
     },
     "execution_count": 76,
     "metadata": {},
     "output_type": "execute_result"
    }
   ],
   "source": [
    "neighbour_data.shape"
   ]
  },
  {
   "cell_type": "code",
   "execution_count": 78,
   "metadata": {},
   "outputs": [
    {
     "data": {
      "text/plain": [
       "neighbourhood_group    108\n",
       "neighbourhood            0\n",
       "dtype: int64"
      ]
     },
     "execution_count": 78,
     "metadata": {},
     "output_type": "execute_result"
    }
   ],
   "source": [
    "neighbour_data.isnull().sum()"
   ]
  },
  {
   "cell_type": "code",
   "execution_count": 79,
   "metadata": {},
   "outputs": [
    {
     "data": {
      "text/plain": [
       "<matplotlib.axes._subplots.AxesSubplot at 0x1d3588dbf98>"
      ]
     },
     "execution_count": 79,
     "metadata": {},
     "output_type": "execute_result"
    },
    {
     "data": {
      "image/png": "[encoded data removed]",
      "text/plain": [
       "<Figure size 576x396 with 2 Axes>"
      ]
     },
     "metadata": {},
     "output_type": "display_data"
    }
   ],
   "source": [
    "sns.heatmap(neighbour_data.isnull())"
   ]
  },
  {
   "cell_type": "markdown",
   "metadata": {},
   "source": [
    "**- Here we can see that neighbourhood_group features is totally null. So we cannot get much information from it. So we will drop not consider this table. And can take \"neighbourhood\" information from the listing dataset.**         "
   ]
  },
  {
   "cell_type": "markdown",
   "metadata": {},
   "source": [
    "# Lets Try to Get some usefull Insights."
   ]
  },
  {
   "cell_type": "markdown",
   "metadata": {},
   "source": [
    "### Let's see Price vs Number of Bedrooms"
   ]
  },
  {
   "cell_type": "code",
   "execution_count": 97,
   "metadata": {},
   "outputs": [
    {
     "data": {
      "text/plain": [
       "<matplotlib.axes._subplots.AxesSubplot at 0x1d35edf7828>"
      ]
     },
     "execution_count": 97,
     "metadata": {},
     "output_type": "execute_result"
    },
    {
     "data": {
      "image/png": "[encoded data removed]",
      "text/plain": [
       "<Figure size 1008x432 with 1 Axes>"
      ]
     },
     "metadata": {},
     "output_type": "display_data"
    }
   ],
   "source": [
    "plt.figure(figsize=(14,6))\n",
    "sns.barplot(x = merged_listing['bedrooms'], y = merged_listing['price'],palette=\"Dark2_r\")"
   ]
  },
  {
   "cell_type": "markdown",
   "metadata": {},
   "source": [
    "**- As we can see the apt/hotels having More rooms, there price are high.**"
   ]
  },
  {
   "cell_type": "markdown",
   "metadata": {},
   "source": [
    "### Lets see Price vs Number of Beds"
   ]
  },
  {
   "cell_type": "code",
   "execution_count": 95,
   "metadata": {},
   "outputs": [
    {
     "data": {
      "text/plain": [
       "<matplotlib.axes._subplots.AxesSubplot at 0x1d3596a1c50>"
      ]
     },
     "execution_count": 95,
     "metadata": {},
     "output_type": "execute_result"
    },
    {
     "data": {
      "image/png": "[encoded data removed]",
      "text/plain": [
       "<Figure size 1008x432 with 1 Axes>"
      ]
     },
     "metadata": {},
     "output_type": "display_data"
    }
   ],
   "source": [
    "plt.figure(figsize=(14,6))\n",
    "sns.barplot(x = merged_listing['beds'], y = merged_listing['price'],palette=\"Dark2\")"
   ]
  },
  {
   "cell_type": "markdown",
   "metadata": {},
   "source": [
    "**- Here we can see that hotel/apt having 13,14 beds are charged high price**"
   ]
  },
  {
   "cell_type": "markdown",
   "metadata": {},
   "source": [
    "###  Let's see Price vs Number of Bathrooms"
   ]
  },
  {
   "cell_type": "code",
   "execution_count": 100,
   "metadata": {},
   "outputs": [
    {
     "data": {
      "text/plain": [
       "<matplotlib.axes._subplots.AxesSubplot at 0x1d36032ee80>"
      ]
     },
     "execution_count": 100,
     "metadata": {},
     "output_type": "execute_result"
    },
    {
     "data": {
      "image/png": "[encoded data removed]",
      "text/plain": [
       "<Figure size 1008x432 with 1 Axes>"
      ]
     },
     "metadata": {},
     "output_type": "display_data"
    }
   ],
   "source": [
    "plt.figure(figsize=(14,6))\n",
    "sns.barplot(x = merged_listing['bathrooms'], y = merged_listing['price'],palette=\"Oranges_r\")"
   ]
  },
  {
   "cell_type": "markdown",
   "metadata": {},
   "source": [
    "**- Here we can say More the Number of bathrooms more the price with 6.5, 8, 9.5 bathrooms has highest price.**"
   ]
  },
  {
   "cell_type": "markdown",
   "metadata": {},
   "source": [
    "### Let's see Price vs Number of person a listing can accomodate"
   ]
  },
  {
   "cell_type": "code",
   "execution_count": 102,
   "metadata": {},
   "outputs": [
    {
     "data": {
      "text/plain": [
       "<matplotlib.axes._subplots.AxesSubplot at 0x1d360b12cc0>"
      ]
     },
     "execution_count": 102,
     "metadata": {},
     "output_type": "execute_result"
    },
    {
     "data": {
      "image/png": "[encoded data removed]",
      "text/plain": [
       "<Figure size 1008x432 with 1 Axes>"
      ]
     },
     "metadata": {},
     "output_type": "display_data"
    }
   ],
   "source": [
    "plt.figure(figsize=(14,6))\n",
    "sns.barplot(x = merged_listing['accommodates'], y = merged_listing['price'],palette=\"Purples\")"
   ]
  },
  {
   "cell_type": "markdown",
   "metadata": {},
   "source": [
    "**- Here we can see as Number of accomodates increase, price also increase**"
   ]
  },
  {
   "cell_type": "markdown",
   "metadata": {},
   "source": [
    "###  Let's see the distribution of Price for listings"
   ]
  },
  {
   "cell_type": "code",
   "execution_count": 105,
   "metadata": {},
   "outputs": [
    {
     "data": {
      "text/plain": [
       "<matplotlib.axes._subplots.AxesSubplot at 0x1d36542d630>"
      ]
     },
     "execution_count": 105,
     "metadata": {},
     "output_type": "execute_result"
    },
    {
     "data": {
      "image/png": "[encoded data removed]",
      "text/plain": [
       "<Figure size 864x576 with 1 Axes>"
      ]
     },
     "metadata": {},
     "output_type": "display_data"
    }
   ],
   "source": [
    "plt.figure(figsize=(12,8))\n",
    "sns.distplot(merged_listing[\"price\"],axlabel=\"Distribution of price\")"
   ]
  },
  {
   "cell_type": "markdown",
   "metadata": {},
   "source": [
    "**- We can say that Distribution of Price is right Skewed with maximum price $10000**"
   ]
  },
  {
   "cell_type": "markdown",
   "metadata": {},
   "source": [
    "#### Let's find Average price"
   ]
  },
  {
   "cell_type": "code",
   "execution_count": 107,
   "metadata": {},
   "outputs": [
    {
     "data": {
      "text/plain": [
       "222.44659282898442"
      ]
     },
     "execution_count": 107,
     "metadata": {},
     "output_type": "execute_result"
    }
   ],
   "source": [
    "merged_listing[\"price\"].mean()"
   ]
  },
  {
   "cell_type": "markdown",
   "metadata": {},
   "source": [
    "**- We can say that Average is 222.44659282898442 for the listings**"
   ]
  },
  {
   "cell_type": "markdown",
   "metadata": {},
   "source": [
    "###  Now let's Analyse Correlation in the whole dataset"
   ]
  },
  {
   "cell_type": "code",
   "execution_count": 109,
   "metadata": {},
   "outputs": [
    {
     "data": {
      "text/plain": [
       "<matplotlib.axes._subplots.AxesSubplot at 0x1d3654db860>"
      ]
     },
     "execution_count": 109,
     "metadata": {},
     "output_type": "execute_result"
    },
    {
     "data": {
      "image/png": "[encoded data removed]",
      "text/plain": [
       "<Figure size 1008x720 with 2 Axes>"
      ]
     },
     "metadata": {},
     "output_type": "display_data"
    }
   ],
   "source": [
    "plt.figure(figsize=(14,10))\n",
    "sns.heatmap(merged_listing.corr())"
   ]
  },
  {
   "cell_type": "markdown",
   "metadata": {},
   "source": [
    "- From above we can say that there are several features that have (not so) strong correlation.\n",
    "\n",
    "- But Price is correlated with Number of Bedroom, bathroom, Beds, Availability\n",
    "\n",
    "- So what we got insights before also, correlation also proves is correct"
   ]
  },
  {
   "cell_type": "markdown",
   "metadata": {},
   "source": [
    "### Top 10 neighbourhood places that has good ratings"
   ]
  },
  {
   "cell_type": "code",
   "execution_count": 112,
   "metadata": {},
   "outputs": [
    {
     "data": {
      "text/plain": [
       "<matplotlib.axes._subplots.AxesSubplot at 0x1d365b67b00>"
      ]
     },
     "execution_count": 112,
     "metadata": {},
     "output_type": "execute_result"
    },
    {
     "data": {
      "image/png": "[encoded data removed]",
      "text/plain": [
       "<Figure size 1008x432 with 1 Axes>"
      ]
     },
     "metadata": {},
     "output_type": "display_data"
    }
   ],
   "source": [
    "plt.figure(figsize=(14,6))\n",
    "merged_listing.groupby(\"neighbourhood\")[\"review_scores_rating\"].sum().sort_values(ascending=False).head(10).plot(kind=\"bar\")"
   ]
  },
  {
   "cell_type": "markdown",
   "metadata": {},
   "source": [
    "### Lets see how does ratings influence price ?"
   ]
  },
  {
   "cell_type": "code",
   "execution_count": 114,
   "metadata": {},
   "outputs": [
    {
     "data": {
      "text/plain": [
       "<matplotlib.axes._subplots.AxesSubplot at 0x1d36e409630>"
      ]
     },
     "execution_count": 114,
     "metadata": {},
     "output_type": "execute_result"
    },
    {
     "data": {
      "text/plain": [
       "<Figure size 1008x432 with 0 Axes>"
      ]
     },
     "metadata": {},
     "output_type": "display_data"
    },
    {
     "data": {
      "image/png": "[encoded data removed]",
      "text/plain": [
       "<Figure size 576x396 with 1 Axes>"
      ]
     },
     "metadata": {},
     "output_type": "display_data"
    }
   ],
   "source": [
    "plt.figure(figsize=(14,6))\n",
    "merged_listing.plot.scatter(y='price', x='review_scores_rating')"
   ]
  },
  {
   "cell_type": "markdown",
   "metadata": {},
   "source": [
    "**- Here we can see that as the average rating gets increased the price also get increased.**"
   ]
  },
  {
   "cell_type": "markdown",
   "metadata": {},
   "source": [
    "### Lets find out which City has more price ?"
   ]
  },
  {
   "cell_type": "code",
   "execution_count": 115,
   "metadata": {},
   "outputs": [
    {
     "data": {
      "text/html": [
       "<div>\n",
       "<style scoped>\n",
       "    .dataframe tbody tr th:only-of-type {\n",
       "        vertical-align: middle;\n",
       "    }\n",
       "\n",
       "    .dataframe tbody tr th {\n",
       "        vertical-align: top;\n",
       "    }\n",
       "\n",
       "    .dataframe thead th {\n",
       "        text-align: right;\n",
       "    }\n",
       "</style>\n",
       "<table border=\"1\" class=\"dataframe\">\n",
       "  <thead>\n",
       "    <tr style=\"text-align: right;\">\n",
       "      <th></th>\n",
       "      <th>city</th>\n",
       "      <th>price</th>\n",
       "    </tr>\n",
       "  </thead>\n",
       "  <tbody>\n",
       "    <tr>\n",
       "      <th>10</th>\n",
       "      <td>San Diego</td>\n",
       "      <td>1003508.0</td>\n",
       "    </tr>\n",
       "    <tr>\n",
       "      <th>4</th>\n",
       "      <td>La Jolla</td>\n",
       "      <td>149662.0</td>\n",
       "    </tr>\n",
       "    <tr>\n",
       "      <th>2</th>\n",
       "      <td>Del Mar</td>\n",
       "      <td>25557.0</td>\n",
       "    </tr>\n",
       "    <tr>\n",
       "      <th>12</th>\n",
       "      <td>سان دييغو</td>\n",
       "      <td>2500.0</td>\n",
       "    </tr>\n",
       "    <tr>\n",
       "      <th>8</th>\n",
       "      <td>Ocean Beach</td>\n",
       "      <td>855.0</td>\n",
       "    </tr>\n",
       "    <tr>\n",
       "      <th>9</th>\n",
       "      <td>Pacific Beach</td>\n",
       "      <td>828.0</td>\n",
       "    </tr>\n",
       "    <tr>\n",
       "      <th>5</th>\n",
       "      <td>La Mesa</td>\n",
       "      <td>758.0</td>\n",
       "    </tr>\n",
       "    <tr>\n",
       "      <th>0</th>\n",
       "      <td>Alpine</td>\n",
       "      <td>462.0</td>\n",
       "    </tr>\n",
       "    <tr>\n",
       "      <th>1</th>\n",
       "      <td>CA</td>\n",
       "      <td>258.0</td>\n",
       "    </tr>\n",
       "    <tr>\n",
       "      <th>7</th>\n",
       "      <td>Newport Beach</td>\n",
       "      <td>221.0</td>\n",
       "    </tr>\n",
       "  </tbody>\n",
       "</table>\n",
       "</div>"
      ],
      "text/plain": [
       "             city      price\n",
       "10      San Diego  1003508.0\n",
       "4        La Jolla   149662.0\n",
       "2         Del Mar    25557.0\n",
       "12      سان دييغو     2500.0\n",
       "8     Ocean Beach      855.0\n",
       "9   Pacific Beach      828.0\n",
       "5         La Mesa      758.0\n",
       "0          Alpine      462.0\n",
       "1              CA      258.0\n",
       "7   Newport Beach      221.0"
      ]
     },
     "execution_count": 115,
     "metadata": {},
     "output_type": "execute_result"
    }
   ],
   "source": [
    "merged_listing.groupby(\"city\")[\"price\"].sum().reset_index().sort_values('price', ascending=False).head(10)"
   ]
  },
  {
   "cell_type": "markdown",
   "metadata": {},
   "source": [
    "**- Here we can see that San Diego has the maximum price and then La Jolla is 2nd highest price and so on.**"
   ]
  },
  {
   "cell_type": "markdown",
   "metadata": {},
   "source": [
    "### Let's see how Property Type influence Price"
   ]
  },
  {
   "cell_type": "code",
   "execution_count": 118,
   "metadata": {},
   "outputs": [
    {
     "data": {
      "text/plain": [
       "array(['House', 'Guesthouse', 'Guest suite', 'Townhouse', 'Apartment',\n",
       "       'Condominium', 'Bungalow', 'Cottage', 'Loft', 'Treehouse',\n",
       "       'Serviced apartment', 'Bed and breakfast', 'Hostel', 'Villa',\n",
       "       'Cabin', 'Camper/RV', 'Other', 'Boutique hotel', 'Tiny house',\n",
       "       'Castle', 'Earth house', 'Tent', 'Resort', 'Igloo', 'Boat',\n",
       "       'Campsite', 'Hotel', 'Aparthotel'], dtype=object)"
      ]
     },
     "execution_count": 118,
     "metadata": {},
     "output_type": "execute_result"
    }
   ],
   "source": [
    "merged_listing['property_type'].unique()"
   ]
  },
  {
   "cell_type": "code",
   "execution_count": 119,
   "metadata": {},
   "outputs": [
    {
     "data": {
      "text/html": [
       "<div>\n",
       "<style scoped>\n",
       "    .dataframe tbody tr th:only-of-type {\n",
       "        vertical-align: middle;\n",
       "    }\n",
       "\n",
       "    .dataframe tbody tr th {\n",
       "        vertical-align: top;\n",
       "    }\n",
       "\n",
       "    .dataframe thead th {\n",
       "        text-align: right;\n",
       "    }\n",
       "</style>\n",
       "<table border=\"1\" class=\"dataframe\">\n",
       "  <thead>\n",
       "    <tr style=\"text-align: right;\">\n",
       "      <th></th>\n",
       "      <th>property_type</th>\n",
       "      <th>price</th>\n",
       "    </tr>\n",
       "  </thead>\n",
       "  <tbody>\n",
       "    <tr>\n",
       "      <th>17</th>\n",
       "      <td>House</td>\n",
       "      <td>580320.0</td>\n",
       "    </tr>\n",
       "    <tr>\n",
       "      <th>1</th>\n",
       "      <td>Apartment</td>\n",
       "      <td>251146.0</td>\n",
       "    </tr>\n",
       "    <tr>\n",
       "      <th>10</th>\n",
       "      <td>Condominium</td>\n",
       "      <td>132585.0</td>\n",
       "    </tr>\n",
       "    <tr>\n",
       "      <th>25</th>\n",
       "      <td>Townhouse</td>\n",
       "      <td>58936.0</td>\n",
       "    </tr>\n",
       "    <tr>\n",
       "      <th>27</th>\n",
       "      <td>Villa</td>\n",
       "      <td>38233.0</td>\n",
       "    </tr>\n",
       "  </tbody>\n",
       "</table>\n",
       "</div>"
      ],
      "text/plain": [
       "   property_type     price\n",
       "17         House  580320.0\n",
       "1      Apartment  251146.0\n",
       "10   Condominium  132585.0\n",
       "25     Townhouse   58936.0\n",
       "27         Villa   38233.0"
      ]
     },
     "execution_count": 119,
     "metadata": {},
     "output_type": "execute_result"
    }
   ],
   "source": [
    "merged_listing.groupby(\"property_type\")[\"price\"].sum().reset_index().sort_values('price', ascending=False).head(5)"
   ]
  },
  {
   "cell_type": "markdown",
   "metadata": {},
   "source": [
    "**- As we can see how has the Maximux Price as compared to others property type**"
   ]
  },
  {
   "cell_type": "markdown",
   "metadata": {},
   "source": [
    "### Lets see Property Type vs Availability in 30 days"
   ]
  },
  {
   "cell_type": "code",
   "execution_count": 120,
   "metadata": {},
   "outputs": [
    {
     "data": {
      "text/html": [
       "<div>\n",
       "<style scoped>\n",
       "    .dataframe tbody tr th:only-of-type {\n",
       "        vertical-align: middle;\n",
       "    }\n",
       "\n",
       "    .dataframe tbody tr th {\n",
       "        vertical-align: top;\n",
       "    }\n",
       "\n",
       "    .dataframe thead th {\n",
       "        text-align: right;\n",
       "    }\n",
       "</style>\n",
       "<table border=\"1\" class=\"dataframe\">\n",
       "  <thead>\n",
       "    <tr style=\"text-align: right;\">\n",
       "      <th></th>\n",
       "      <th>property_type</th>\n",
       "      <th>availability_30</th>\n",
       "    </tr>\n",
       "  </thead>\n",
       "  <tbody>\n",
       "    <tr>\n",
       "      <th>17</th>\n",
       "      <td>House</td>\n",
       "      <td>1936</td>\n",
       "    </tr>\n",
       "    <tr>\n",
       "      <th>1</th>\n",
       "      <td>Apartment</td>\n",
       "      <td>1551</td>\n",
       "    </tr>\n",
       "    <tr>\n",
       "      <th>10</th>\n",
       "      <td>Condominium</td>\n",
       "      <td>649</td>\n",
       "    </tr>\n",
       "    <tr>\n",
       "      <th>25</th>\n",
       "      <td>Townhouse</td>\n",
       "      <td>323</td>\n",
       "    </tr>\n",
       "    <tr>\n",
       "      <th>14</th>\n",
       "      <td>Guesthouse</td>\n",
       "      <td>148</td>\n",
       "    </tr>\n",
       "  </tbody>\n",
       "</table>\n",
       "</div>"
      ],
      "text/plain": [
       "   property_type  availability_30\n",
       "17         House             1936\n",
       "1      Apartment             1551\n",
       "10   Condominium              649\n",
       "25     Townhouse              323\n",
       "14    Guesthouse              148"
      ]
     },
     "execution_count": 120,
     "metadata": {},
     "output_type": "execute_result"
    }
   ],
   "source": [
    "merged_listing.groupby(\"property_type\")[\"availability_30\"].count().reset_index().sort_values('availability_30', ascending=False).head(5)"
   ]
  },
  {
   "cell_type": "markdown",
   "metadata": {},
   "source": [
    "**- Here Also House has more availability as compared to others.**"
   ]
  },
  {
   "cell_type": "markdown",
   "metadata": {},
   "source": [
    "### Lets do Review Comments Analysis using word cloud"
   ]
  },
  {
   "cell_type": "code",
   "execution_count": 121,
   "metadata": {},
   "outputs": [
    {
     "data": {
      "text/plain": [
       "(500,)"
      ]
     },
     "execution_count": 121,
     "metadata": {},
     "output_type": "execute_result"
    }
   ],
   "source": [
    "review=review_data[\"comments\"].head(500)\n",
    "review.shape"
   ]
  },
  {
   "cell_type": "code",
   "execution_count": 123,
   "metadata": {},
   "outputs": [
    {
     "name": "stdout",
     "output_type": "stream",
     "text": [
      "Collecting wordcloud\n",
      "  Downloading https://files.pythonhosted.org/packages/23/4e/1254d26ce5d36facdcbb5820e7e434328aed68e99938c75c9d4e2fee5efb/wordcloud-1.5.0-cp37-cp37m-win_amd64.whl (153kB)\n",
      "Requirement already satisfied: numpy>=1.6.1 in c:\\users\\shashank\\anaconda3\\lib\\site-packages (from wordcloud) (1.16.5)\n",
      "Requirement already satisfied: pillow in c:\\users\\shashank\\anaconda3\\lib\\site-packages (from wordcloud) (6.2.0)\n",
      "Installing collected packages: wordcloud\n",
      "Successfully installed wordcloud-1.5.0\n"
     ]
    }
   ],
   "source": [
    "#!pip install wordcloud"
   ]
  },
  {
   "cell_type": "code",
   "execution_count": 124,
   "metadata": {},
   "outputs": [],
   "source": [
    "from wordcloud import WordCloud, STOPWORDS"
   ]
  },
  {
   "cell_type": "code",
   "execution_count": 125,
   "metadata": {},
   "outputs": [],
   "source": [
    "comment_words = ' '\n",
    "stopwords = set(STOPWORDS) \n",
    "  \n",
    "# iterate through the csv file \n",
    "for val in review: \n",
    "      \n",
    "    # typecaste each val to string \n",
    "    val = str(val) \n",
    "  \n",
    "    # split the value \n",
    "    tokens = val.split() \n",
    "      \n",
    "    # Converts each token into lowercase \n",
    "    for i in range(len(tokens)): \n",
    "        tokens[i] = tokens[i].lower() \n",
    "          \n",
    "    for words in tokens: \n",
    "        comment_words = comment_words + words + ' '\n",
    "  \n",
    "  \n",
    "wordcloud = WordCloud(width = 800, height = 800, \n",
    "                background_color ='white', \n",
    "                stopwords = stopwords, \n",
    "                min_font_size = 10).generate(comment_words)"
   ]
  },
  {
   "cell_type": "code",
   "execution_count": 128,
   "metadata": {},
   "outputs": [
    {
     "data": {
      "image/png": "[encoded data removed]",
      "text/plain": [
       "<Figure size 576x432 with 1 Axes>"
      ]
     },
     "metadata": {},
     "output_type": "display_data"
    }
   ],
   "source": [
    "# plot the WordCloud image                        \n",
    "plt.figure(figsize = (8, 6), facecolor = None) \n",
    "plt.imshow(wordcloud) \n",
    "plt.axis(\"off\") \n",
    "plt.tight_layout(pad = 0) \n",
    "  \n",
    "plt.show()\n"
   ]
  },
  {
   "cell_type": "markdown",
   "metadata": {},
   "source": [
    "**- We can see with the help of Word cloud Most of the review comments are good and postive.**"
   ]
  },
  {
   "cell_type": "markdown",
   "metadata": {},
   "source": [
    "### Now Let's find Top 10 Reviewer with their reviewer_id as name are not available"
   ]
  },
  {
   "cell_type": "code",
   "execution_count": 130,
   "metadata": {},
   "outputs": [
    {
     "data": {
      "text/html": [
       "<div>\n",
       "<style scoped>\n",
       "    .dataframe tbody tr th:only-of-type {\n",
       "        vertical-align: middle;\n",
       "    }\n",
       "\n",
       "    .dataframe tbody tr th {\n",
       "        vertical-align: top;\n",
       "    }\n",
       "\n",
       "    .dataframe thead th {\n",
       "        text-align: right;\n",
       "    }\n",
       "</style>\n",
       "<table border=\"1\" class=\"dataframe\">\n",
       "  <thead>\n",
       "    <tr style=\"text-align: right;\">\n",
       "      <th></th>\n",
       "      <th>reviewer_id</th>\n",
       "      <th>Comment counts</th>\n",
       "    </tr>\n",
       "  </thead>\n",
       "  <tbody>\n",
       "    <tr>\n",
       "      <th>0</th>\n",
       "      <td>64785633</td>\n",
       "      <td>42</td>\n",
       "    </tr>\n",
       "    <tr>\n",
       "      <th>1</th>\n",
       "      <td>23653867</td>\n",
       "      <td>40</td>\n",
       "    </tr>\n",
       "    <tr>\n",
       "      <th>2</th>\n",
       "      <td>169329871</td>\n",
       "      <td>36</td>\n",
       "    </tr>\n",
       "    <tr>\n",
       "      <th>3</th>\n",
       "      <td>139473190</td>\n",
       "      <td>33</td>\n",
       "    </tr>\n",
       "    <tr>\n",
       "      <th>4</th>\n",
       "      <td>1649820</td>\n",
       "      <td>29</td>\n",
       "    </tr>\n",
       "    <tr>\n",
       "      <th>5</th>\n",
       "      <td>118535408</td>\n",
       "      <td>29</td>\n",
       "    </tr>\n",
       "    <tr>\n",
       "      <th>6</th>\n",
       "      <td>4964473</td>\n",
       "      <td>26</td>\n",
       "    </tr>\n",
       "    <tr>\n",
       "      <th>7</th>\n",
       "      <td>30012680</td>\n",
       "      <td>24</td>\n",
       "    </tr>\n",
       "    <tr>\n",
       "      <th>8</th>\n",
       "      <td>157569393</td>\n",
       "      <td>24</td>\n",
       "    </tr>\n",
       "    <tr>\n",
       "      <th>9</th>\n",
       "      <td>85972988</td>\n",
       "      <td>23</td>\n",
       "    </tr>\n",
       "  </tbody>\n",
       "</table>\n",
       "</div>"
      ],
      "text/plain": [
       "   reviewer_id  Comment counts\n",
       "0     64785633              42\n",
       "1     23653867              40\n",
       "2    169329871              36\n",
       "3    139473190              33\n",
       "4      1649820              29\n",
       "5    118535408              29\n",
       "6      4964473              26\n",
       "7     30012680              24\n",
       "8    157569393              24\n",
       "9     85972988              23"
      ]
     },
     "execution_count": 130,
     "metadata": {},
     "output_type": "execute_result"
    }
   ],
   "source": [
    "review_data.groupby(\"reviewer_id\").count().sort_values(by=\"comments\",ascending=False)[\"id\"].head(10).reset_index(name='Comment counts')"
   ]
  },
  {
   "cell_type": "markdown",
   "metadata": {},
   "source": [
    "**- Here we can see that reviewer_id = 64785633 gave the maximum comments**"
   ]
  },
  {
   "cell_type": "code",
   "execution_count": null,
   "metadata": {},
   "outputs": [],
   "source": []
  }
 ],
 "metadata": {
  "kernelspec": {
   "display_name": "Python 3",
   "language": "python",
   "name": "python3"
  },
  "language_info": {
   "codemirror_mode": {
    "name": "ipython",
    "version": 3
   },
   "file_extension": ".py",
   "mimetype": "text/x-python",
   "name": "python",
   "nbconvert_exporter": "python",
   "pygments_lexer": "ipython3",
   "version": "3.7.3"
  }
 },
 "nbformat": 4,
 "nbformat_minor": 2
}
